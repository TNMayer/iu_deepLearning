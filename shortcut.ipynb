{
 "cells": [
  {
   "cell_type": "markdown",
   "metadata": {},
   "source": [
    "# Shortcut learning by example of cat vs cow classifier using neural networks"
   ]
  },
  {
   "cell_type": "code",
   "execution_count": 1,
   "metadata": {},
   "outputs": [],
   "source": [
    "import numpy as np\n",
    "import matplotlib.pyplot as plt\n",
    "import sys\n",
    "import IPython\n",
    "import time\n",
    "import IPython.display as display\n",
    "from PIL import Image\n",
    "import cv2"
   ]
  },
  {
   "cell_type": "markdown",
   "metadata": {},
   "source": [
    "## Data Preparation"
   ]
  },
  {
   "cell_type": "code",
   "execution_count": 2,
   "metadata": {},
   "outputs": [],
   "source": [
    "cat = np.load('./images/cat.npy')\n",
    "cow = np.load('./images/cow.npy')"
   ]
  },
  {
   "cell_type": "code",
   "execution_count": 3,
   "metadata": {},
   "outputs": [
    {
     "data": {
      "text/plain": [
       "<matplotlib.image.AxesImage at 0x1772192ed60>"
      ]
     },
     "execution_count": 3,
     "metadata": {},
     "output_type": "execute_result"
    },
    {
     "data": {
      "image/png": "[encoded data removed]",
      "text/plain": [
       "<Figure size 432x288 with 1 Axes>"
      ]
     },
     "metadata": {
      "needs_background": "light"
     },
     "output_type": "display_data"
    }
   ],
   "source": [
    "plt.imshow(cow,cmap='gray')"
   ]
  },
  {
   "cell_type": "code",
   "execution_count": 4,
   "metadata": {},
   "outputs": [
    {
     "data": {
      "text/plain": [
       "<matplotlib.image.AxesImage at 0x177220cba30>"
      ]
     },
     "execution_count": 4,
     "metadata": {},
     "output_type": "execute_result"
    },
    {
     "data": {
      "image/png": "[encoded data removed]",
      "text/plain": [
       "<Figure size 432x288 with 1 Axes>"
      ]
     },
     "metadata": {
      "needs_background": "light"
     },
     "output_type": "display_data"
    }
   ],
   "source": [
    "plt.imshow(cat,cmap='gray')"
   ]
  },
  {
   "cell_type": "code",
   "execution_count": 5,
   "metadata": {},
   "outputs": [],
   "source": [
    "biased_train_cat = []\n",
    "biased_train_cow = []\n",
    "\n",
    "for i in range(1000):\n",
    "  \n",
    "  x_val = np.random.randint(46,60)\n",
    "  y_val = np.random.randint(39,70)\n",
    "  translation_matrix = np.float32([ [1,0,x_val], [0,1,y_val] ])\n",
    "  im = cv2.warpAffine(cat, translation_matrix, (cat.shape[0], cat.shape[0]))\n",
    "  biased_train_cat.append(im)\n",
    "  x_val = np.random.randint(-53,-39)\n",
    "  y_val = np.random.randint(-65,-34)\n",
    "  translation_matrix = np.float32([ [1,0,x_val], [0,1,y_val] ])\n",
    "  im = cv2.warpAffine(cat, translation_matrix, (cat.shape[0], cat.shape[0]))\n",
    "  biased_train_cat.append(im)\n",
    "\n",
    "  y_val = np.random.randint(44,64)\n",
    "  x_val = np.random.randint(-46,-22)\n",
    "  translation_matrix = np.float32([ [1,0,x_val], [0,1,y_val] ])\n",
    "  im = cv2.warpAffine(cow, translation_matrix, (cat.shape[0], cat.shape[0]))\n",
    "  biased_train_cow.append(im)\n",
    "  y_val = np.random.randint(-56,-33)\n",
    "  x_val = np.random.randint(55,78)\n",
    "  translation_matrix = np.float32([ [1,0,x_val], [0,1,y_val] ])\n",
    "  im = cv2.warpAffine(cow, translation_matrix, (cat.shape[0], cat.shape[0]))\n",
    "  biased_train_cow.append(im)\n",
    "\n",
    "unbiased_train_cat = []\n",
    "unbiased_train_cow = []\n",
    "\n",
    "for i in range(2000):\n",
    "  \n",
    "  x_val = np.random.randint(-53,60)\n",
    "  y_val = np.random.randint(-65,70)\n",
    "  translation_matrix = np.float32([ [1,0,x_val], [0,1,y_val] ])\n",
    "  im = cv2.warpAffine(cat, translation_matrix, (cat.shape[0], cat.shape[0]))\n",
    "  unbiased_train_cat.append(im)\n",
    "  \n",
    "  y_val = np.random.randint(-56,64)\n",
    "  x_val = np.random.randint(-46,78)\n",
    "  translation_matrix = np.float32([ [1,0,x_val], [0,1,y_val] ])\n",
    "  im = cv2.warpAffine(cow, translation_matrix, (cat.shape[0], cat.shape[0]))\n",
    "  unbiased_train_cow.append(im)\n",
    "  \n",
    "biased_train_cow = np.array(biased_train_cow)\n",
    "biased_train_cat = np.array(biased_train_cat)\n",
    "unbiased_train_cow = np.array(unbiased_train_cow)\n",
    "unbiased_train_cat = np.array(unbiased_train_cat)"
   ]
  },
  {
   "cell_type": "markdown",
   "metadata": {},
   "source": [
    "## Bundle train and test data"
   ]
  },
  {
   "cell_type": "code",
   "execution_count": 6,
   "metadata": {},
   "outputs": [],
   "source": [
    "import tensorflow as tf\n",
    "import matplotlib.pyplot as plt\n",
    "from tensorflow.python.framework.ops import EagerTensor\n",
    "from tensorflow.python.ops.resource_variable_ops import ResourceVariable\n",
    "import time\n",
    "from sklearn.model_selection import train_test_split"
   ]
  },
  {
   "cell_type": "code",
   "execution_count": 7,
   "metadata": {},
   "outputs": [],
   "source": [
    "# cats are 0 and cows are 1\n",
    "# generate test data\n",
    "X_unbiased = np.concatenate((unbiased_train_cat, unbiased_train_cow))\n",
    "X_unbiased = X_unbiased.reshape(X_unbiased.shape[0], X_unbiased.shape[1], X_unbiased.shape[2], 1)\n",
    "\n",
    "y = np.concatenate((np.zeros(len(unbiased_train_cat)),np.ones(len(unbiased_train_cow))))\n",
    "y = y.reshape(len(y), 1)\n",
    "\n",
    "# generate train data\n",
    "X_biased = np.concatenate((biased_train_cat,biased_train_cow))\n",
    "X_biased = X_biased.reshape(X_biased.shape[0], X_biased.shape[1], X_biased.shape[2], 1)\n",
    "\n",
    "# split up biased data into train and i.i.d. test data\n",
    "X_biased_train, X_biased_test, y_biased_train, y_biased_test = train_test_split(X_biased, y, test_size=0.25, random_state=1)\n",
    "X_unbiased_train, X_unbiased_test, y_unbiased_train, y_unbiased_test = train_test_split(X_unbiased, y, test_size=0.25, random_state=1)\n",
    "test_unbiased = tf.data.Dataset.from_tensor_slices((X_unbiased, y))\n",
    "training_biased = tf.data.Dataset.from_tensor_slices((X_biased_train, y_biased_train))\n",
    "test_biased = tf.data.Dataset.from_tensor_slices((X_biased_test, y_biased_test))\n",
    "training_unbiased = tf.data.Dataset.from_tensor_slices((X_unbiased_train, y_unbiased_train))"
   ]
  },
  {
   "cell_type": "code",
   "execution_count": 8,
   "metadata": {},
   "outputs": [
    {
     "data": {
      "text/plain": [
       "<matplotlib.image.AxesImage at 0x17c800f69a0>"
      ]
     },
     "execution_count": 8,
     "metadata": {},
     "output_type": "execute_result"
    },
    {
     "data": {
      "image/png": "[encoded data removed]",
      "text/plain": [
       "<Figure size 432x288 with 1 Axes>"
      ]
     },
     "metadata": {
      "needs_background": "light"
     },
     "output_type": "display_data"
    }
   ],
   "source": [
    "plt.imshow(X_biased[3001], cmap='gray')"
   ]
  },
  {
   "cell_type": "markdown",
   "metadata": {},
   "source": [
    "### Visualize biased data"
   ]
  },
  {
   "cell_type": "code",
   "execution_count": 9,
   "metadata": {},
   "outputs": [],
   "source": [
    "def visualize_samples(data):\n",
    "  class_types = [\"cat\", \"cow\"]\n",
    "  check_list = list(data.as_numpy_iterator())\n",
    "\n",
    "  fig = plt.figure(figsize=(8,8))\n",
    "  for i in range(25, 50):\n",
    "    plt.subplot(5,5,(i-25)+1)\n",
    "    plt.xticks([])\n",
    "    plt.yticks([])\n",
    "    plt.grid(False)\n",
    "    plt.imshow(check_list[i][0], cmap='gray')\n",
    "    plt.xlabel(class_types [int(check_list[i][1][0])], fontsize=13)\n",
    "  plt.tight_layout()\n",
    "  plt.show()"
   ]
  },
  {
   "cell_type": "code",
   "execution_count": 10,
   "metadata": {},
   "outputs": [
    {
     "data": {
      "image/png": "[encoded data removed]",
      "text/plain": [
       "<Figure size 576x576 with 25 Axes>"
      ]
     },
     "metadata": {},
     "output_type": "display_data"
    }
   ],
   "source": [
    "visualize_samples(training_biased)"
   ]
  },
  {
   "cell_type": "markdown",
   "metadata": {},
   "source": [
    "### Visualize unbiased data"
   ]
  },
  {
   "cell_type": "code",
   "execution_count": 11,
   "metadata": {},
   "outputs": [
    {
     "data": {
      "image/png": "[encoded data removed]",
      "text/plain": [
       "<Figure size 576x576 with 25 Axes>"
      ]
     },
     "metadata": {},
     "output_type": "display_data"
    }
   ],
   "source": [
    "visualize_samples(test_unbiased.shuffle(buffer_size=len(y)))"
   ]
  },
  {
   "cell_type": "markdown",
   "metadata": {},
   "source": [
    "### Data Augmentation"
   ]
  },
  {
   "cell_type": "code",
   "execution_count": 12,
   "metadata": {},
   "outputs": [],
   "source": [
    "data_augmentation = tf.keras.Sequential([\n",
    "  tf.keras.layers.RandomFlip(\"horizontal_and_vertical\"),\n",
    "  tf.keras.layers.RandomRotation(0.2),\n",
    "])"
   ]
  },
  {
   "cell_type": "code",
   "execution_count": 13,
   "metadata": {},
   "outputs": [
    {
     "data": {
      "text/plain": [
       "<matplotlib.image.AxesImage at 0x17d88bdf6d0>"
      ]
     },
     "execution_count": 13,
     "metadata": {},
     "output_type": "execute_result"
    },
    {
     "data": {
      "image/png": "[encoded data removed]",
      "text/plain": [
       "<Figure size 432x288 with 1 Axes>"
      ]
     },
     "metadata": {
      "needs_background": "light"
     },
     "output_type": "display_data"
    }
   ],
   "source": [
    "plt.imshow(X_biased_train[0], cmap=\"gray\")"
   ]
  },
  {
   "cell_type": "code",
   "execution_count": 14,
   "metadata": {},
   "outputs": [
    {
     "data": {
      "image/png": "[encoded data removed]",
      "text/plain": [
       "<Figure size 360x360 with 9 Axes>"
      ]
     },
     "metadata": {
      "needs_background": "light"
     },
     "output_type": "display_data"
    }
   ],
   "source": [
    "for image, _ in training_biased.take(1):\n",
    "    plt.figure(figsize=(5, 5))\n",
    "    first_image = image\n",
    "    for i in range(9):\n",
    "        ax = plt.subplot(3, 3, i + 1)\n",
    "        augmented_image = data_augmentation(tf.expand_dims(first_image, 0))\n",
    "        plt.imshow(augmented_image[0], cmap=\"gray\")\n",
    "        plt.axis('off')"
   ]
  },
  {
   "cell_type": "markdown",
   "metadata": {},
   "source": [
    "## Build an ANN net with tensorflow"
   ]
  },
  {
   "cell_type": "markdown",
   "metadata": {},
   "source": [
    "### Train fully connected ANN with 4 hidden layers and one output layer"
   ]
  },
  {
   "cell_type": "code",
   "execution_count": 15,
   "metadata": {},
   "outputs": [],
   "source": [
    "import keras,os\n",
    "from keras.models import Sequential\n",
    "from keras.layers import Dense, Conv2D, MaxPool2D , AvgPool2D, Flatten, Dropout"
   ]
  },
  {
   "cell_type": "code",
   "execution_count": 16,
   "metadata": {},
   "outputs": [],
   "source": [
    "def dnn_model(data = training_biased, \n",
    "            fit = False, regularization = False,\n",
    "            load = True, epochs = 5, augmentation = False, save = True):\n",
    "    \n",
    "    data = data.shuffle(buffer_size=40000).batch(128).prefetch(buffer_size=tf.data.experimental.AUTOTUNE)\n",
    "    # define callback options\n",
    "    dnn_checkpoint_path = \"dnn_checkpoints/dnn\"\n",
    "    if regularization:\n",
    "        dnn_checkpoint_path = dnn_checkpoint_path + \"_reg\"\n",
    "    if augmentation:\n",
    "        dnn_checkpoint_path = dnn_checkpoint_path + \"_aug\"\n",
    "    dnn_checkpoint_path = dnn_checkpoint_path + \".ckpt\"\n",
    "\n",
    "    if save:\n",
    "        # Create a callback that saves the model's weights\n",
    "        cp_callback = tf.keras.callbacks.ModelCheckpoint(filepath=dnn_checkpoint_path,\n",
    "                                                        save_weights_only=True,\n",
    "                                                        verbose=1)\n",
    "\n",
    "    # define model\n",
    "    if augmentation:\n",
    "        dnn = Sequential([data_augmentation])\n",
    "    else:\n",
    "        dnn = Sequential()\n",
    "    dnn.add(Flatten())\n",
    "    dnn.add(Dense(512, activation='relu', kernel_initializer='he_normal'))\n",
    "    if regularization:\n",
    "        dnn.add(Dropout(0.2))\n",
    "    dnn.add(Dense(256, activation='relu', kernel_initializer='he_normal'))\n",
    "    if regularization:\n",
    "        dnn.add(Dropout(0.2))\n",
    "    dnn.add(Dense(128, activation='relu', kernel_initializer='he_normal'))\n",
    "    if regularization:\n",
    "        dnn.add(Dropout(0.2))\n",
    "    dnn.add(Dense(64, activation='relu', kernel_initializer='he_normal'))\n",
    "    if regularization:\n",
    "        dnn.add(Dropout(0.2))\n",
    "    dnn.add(Dense(1, activation='sigmoid'))\n",
    "    # # compile the model\n",
    "    opt = keras.optimizers.Adam(learning_rate=0.001)\n",
    "    dnn.compile(optimizer=opt, loss='binary_crossentropy', metrics=['accuracy'])\n",
    "    # # fit the model\n",
    "    if fit:\n",
    "        if save:\n",
    "            dnn.fit(data,\n",
    "                epochs=epochs,\n",
    "                callbacks=[cp_callback])\n",
    "        else:\n",
    "            dnn.fit(data, epochs=epochs)\n",
    "    elif load:\n",
    "        dnn.load_weights(dnn_checkpoint_path)\n",
    "    \n",
    "    return dnn"
   ]
  },
  {
   "cell_type": "markdown",
   "metadata": {},
   "source": [
    "#### Not augmented data"
   ]
  },
  {
   "cell_type": "code",
   "execution_count": 28,
   "metadata": {},
   "outputs": [
    {
     "name": "stdout",
     "output_type": "stream",
     "text": [
      "### Training normal DNN ###\n",
      "Epoch 1/2\n",
      "24/24 [==============================] - 6s 185ms/step - loss: 0.0308 - accuracy: 0.9807\n",
      "Epoch 2/2\n",
      "24/24 [==============================] - 4s 178ms/step - loss: 1.6051e-24 - accuracy: 1.0000\n",
      "### Training normal DNN with dropout ###\n",
      "Epoch 1/2\n",
      "24/24 [==============================] - 7s 233ms/step - loss: 0.0333 - accuracy: 0.9810\n",
      "Epoch 2/2\n",
      "24/24 [==============================] - 6s 233ms/step - loss: 2.6390e-12 - accuracy: 1.0000\n",
      "Model: \"sequential_6\"\n",
      "_________________________________________________________________\n",
      " Layer (type)                Output Shape              Param #   \n",
      "=================================================================\n",
      " flatten_3 (Flatten)         (None, 90000)             0         \n",
      "                                                                 \n",
      " dense_5 (Dense)             (None, 512)               46080512  \n",
      "                                                                 \n",
      " dense_6 (Dense)             (None, 256)               131328    \n",
      "                                                                 \n",
      " dense_7 (Dense)             (None, 128)               32896     \n",
      "                                                                 \n",
      " dense_8 (Dense)             (None, 64)                8256      \n",
      "                                                                 \n",
      " dense_9 (Dense)             (None, 1)                 65        \n",
      "                                                                 \n",
      "=================================================================\n",
      "Total params: 46,253,057\n",
      "Trainable params: 46,253,057\n",
      "Non-trainable params: 0\n",
      "_________________________________________________________________\n",
      "None\n"
     ]
    }
   ],
   "source": [
    "print(\"### Training normal DNN ###\")\n",
    "dnn = dnn_model(fit = True, epochs = 2, save = False, load = False)\n",
    "print(\"### Training normal DNN with dropout ###\")\n",
    "dnn_dropout = dnn_model(fit = True, epochs = 2, regularization=True, save = False, load = False)\n",
    "\n",
    "print(dnn.summary())"
   ]
  },
  {
   "cell_type": "markdown",
   "metadata": {},
   "source": [
    "#### Augmented Data"
   ]
  },
  {
   "cell_type": "code",
   "execution_count": 18,
   "metadata": {},
   "outputs": [
    {
     "name": "stdout",
     "output_type": "stream",
     "text": [
      "### Training normal DNN with augmentation ###\n",
      "Epoch 1/10\n",
      "24/24 [==============================] - 9s 305ms/step - loss: 0.5486 - accuracy: 0.7340\n",
      "Epoch 2/10\n",
      "24/24 [==============================] - 7s 295ms/step - loss: 0.1760 - accuracy: 0.9367\n",
      "Epoch 3/10\n",
      "24/24 [==============================] - 7s 308ms/step - loss: 0.1135 - accuracy: 0.9587\n",
      "Epoch 4/10\n",
      "24/24 [==============================] - 7s 310ms/step - loss: 0.0594 - accuracy: 0.9803\n",
      "Epoch 5/10\n",
      "24/24 [==============================] - 7s 294ms/step - loss: 0.0337 - accuracy: 0.9903\n",
      "Epoch 6/10\n",
      "24/24 [==============================] - 8s 333ms/step - loss: 0.0313 - accuracy: 0.9880\n",
      "Epoch 7/10\n",
      "24/24 [==============================] - 8s 314ms/step - loss: 0.0224 - accuracy: 0.9927\n",
      "Epoch 8/10\n",
      "24/24 [==============================] - 7s 304ms/step - loss: 0.0299 - accuracy: 0.9887\n",
      "Epoch 9/10\n",
      "24/24 [==============================] - 7s 308ms/step - loss: 0.0446 - accuracy: 0.9833\n",
      "Epoch 10/10\n",
      "24/24 [==============================] - 7s 308ms/step - loss: 0.0683 - accuracy: 0.9773\n",
      "### Training normal DNN with dropout and augmentation ###\n",
      "Epoch 1/10\n",
      "24/24 [==============================] - 9s 306ms/step - loss: 0.9052 - accuracy: 0.5643\n",
      "Epoch 2/10\n",
      "24/24 [==============================] - 7s 307ms/step - loss: 0.6794 - accuracy: 0.6363\n",
      "Epoch 3/10\n",
      "24/24 [==============================] - 7s 301ms/step - loss: 0.4997 - accuracy: 0.7510\n",
      "Epoch 4/10\n",
      "24/24 [==============================] - 7s 297ms/step - loss: 0.3527 - accuracy: 0.8527\n",
      "Epoch 5/10\n",
      "24/24 [==============================] - 7s 299ms/step - loss: 0.2153 - accuracy: 0.9210\n",
      "Epoch 6/10\n",
      "24/24 [==============================] - 7s 298ms/step - loss: 0.1573 - accuracy: 0.9390\n",
      "Epoch 7/10\n",
      "24/24 [==============================] - 7s 299ms/step - loss: 0.1385 - accuracy: 0.9527\n",
      "Epoch 8/10\n",
      "24/24 [==============================] - 7s 295ms/step - loss: 0.0943 - accuracy: 0.9623\n",
      "Epoch 9/10\n",
      "24/24 [==============================] - 7s 295ms/step - loss: 0.0872 - accuracy: 0.9667\n",
      "Epoch 10/10\n",
      "24/24 [==============================] - 7s 303ms/step - loss: 0.0546 - accuracy: 0.9800\n"
     ]
    }
   ],
   "source": [
    "print(\"### Training normal DNN with augmentation ###\")\n",
    "dnn_aug = dnn_model(fit = True, save = False, load = False, epochs = 10, augmentation = True)\n",
    "print(\"### Training normal DNN with dropout and augmentation ###\")\n",
    "dnn_dropout_aug = dnn_model(fit = True, save = False, load = False, regularization=True, epochs = 10, augmentation = True)"
   ]
  },
  {
   "cell_type": "code",
   "execution_count": 19,
   "metadata": {},
   "outputs": [
    {
     "name": "stdout",
     "output_type": "stream",
     "text": [
      "### Training normal DNN with dropout and augmentation and unbiased training data ###\n",
      "Epoch 1/5\n",
      "24/24 [==============================] - 6s 195ms/step - loss: 0.8586 - accuracy: 0.5880\n",
      "Epoch 2/5\n",
      "24/24 [==============================] - 5s 191ms/step - loss: 0.6060 - accuracy: 0.6793\n",
      "Epoch 3/5\n",
      "24/24 [==============================] - 5s 197ms/step - loss: 0.3726 - accuracy: 0.8220\n",
      "Epoch 4/5\n",
      "24/24 [==============================] - 5s 190ms/step - loss: 0.1845 - accuracy: 0.9233\n",
      "Epoch 5/5\n",
      "24/24 [==============================] - 5s 194ms/step - loss: 0.0785 - accuracy: 0.9723\n"
     ]
    }
   ],
   "source": [
    "print(\"### Training normal DNN with dropout and augmentation and unbiased training data ###\")\n",
    "dnn_unbiased_dropout_aug = dnn_model(fit = True, save = False, load = False, \n",
    "                                    data = training_unbiased, regularization=True, \n",
    "                                    epochs = 5, augmentation = False)"
   ]
  },
  {
   "cell_type": "markdown",
   "metadata": {},
   "source": [
    "### Evaluation"
   ]
  },
  {
   "cell_type": "markdown",
   "metadata": {},
   "source": [
    "#### No Augmentatioin"
   ]
  },
  {
   "cell_type": "code",
   "execution_count": 20,
   "metadata": {},
   "outputs": [],
   "source": [
    "def model_evaluation(X_test = X_biased_test, y_test = y_biased_test, biased = True, model = dnn):\n",
    "    if biased:\n",
    "        loss, acc = model.evaluate(X_test, y_test)\n",
    "        print('Test Accuracy on biased i.i.d. test data: %.3f' % acc)\n",
    "    else:\n",
    "        loss, acc = model.evaluate(X_unbiased, y)\n",
    "        print('Test Accuracy on unbiased o.o.d. test data: %.3f' % acc)\n"
   ]
  },
  {
   "cell_type": "code",
   "execution_count": 21,
   "metadata": {},
   "outputs": [
    {
     "name": "stdout",
     "output_type": "stream",
     "text": [
      "### without dropout ###\n",
      "32/32 [==============================] - 1s 27ms/step - loss: 2.1115e-24 - accuracy: 1.0000\n",
      "Test Accuracy on biased i.i.d. test data: 1.000\n",
      "125/125 [==============================] - 4s 28ms/step - loss: 16.9583 - accuracy: 0.4835\n",
      "Test Accuracy on unbiased o.o.d. test data: 0.484\n",
      "### with dropout\n",
      "32/32 [==============================] - 1s 29ms/step - loss: 3.7800e-34 - accuracy: 1.0000\n",
      "Test Accuracy on biased i.i.d. test data: 1.000\n",
      "125/125 [==============================] - 4s 29ms/step - loss: 23.3792 - accuracy: 0.4865\n",
      "Test Accuracy on unbiased o.o.d. test data: 0.486\n"
     ]
    }
   ],
   "source": [
    "print(\"### without dropout ###\")\n",
    "model_evaluation(model = dnn)\n",
    "model_evaluation(model = dnn, biased = False)\n",
    "print(\"### with dropout\")\n",
    "model_evaluation(model = dnn_dropout)\n",
    "model_evaluation(model = dnn_dropout, biased = False)"
   ]
  },
  {
   "cell_type": "markdown",
   "metadata": {},
   "source": [
    "**Perfect result: Based on a normal train/test split we achieve a perfect accuracy-score** <br/>\n",
    "**Based on o.o.d. test data the model performs similar to random guessing**"
   ]
  },
  {
   "cell_type": "markdown",
   "metadata": {},
   "source": [
    "#### Augmentation"
   ]
  },
  {
   "cell_type": "code",
   "execution_count": 22,
   "metadata": {},
   "outputs": [
    {
     "name": "stdout",
     "output_type": "stream",
     "text": [
      "### without dropout ###\n",
      "32/32 [==============================] - 1s 28ms/step - loss: 0.0042 - accuracy: 1.0000\n",
      "Test Accuracy on biased i.i.d. test data: 1.000\n",
      "125/125 [==============================] - 4s 29ms/step - loss: 2.7776 - accuracy: 0.6622\n",
      "Test Accuracy on unbiased o.o.d. test data: 0.662\n",
      "### with dropout\n",
      "32/32 [==============================] - 1s 29ms/step - loss: 0.0363 - accuracy: 0.9850\n",
      "Test Accuracy on biased i.i.d. test data: 0.985\n",
      "125/125 [==============================] - 4s 31ms/step - loss: 2.3731 - accuracy: 0.6400\n",
      "Test Accuracy on unbiased o.o.d. test data: 0.640\n"
     ]
    }
   ],
   "source": [
    "print(\"### without dropout ###\")\n",
    "model_evaluation(model = dnn_aug)\n",
    "model_evaluation(model = dnn_aug, biased = False)\n",
    "print(\"### with dropout\")\n",
    "model_evaluation(model = dnn_dropout_aug)\n",
    "model_evaluation(model = dnn_dropout_aug, biased = False)"
   ]
  },
  {
   "cell_type": "code",
   "execution_count": 37,
   "metadata": {},
   "outputs": [
    {
     "name": "stdout",
     "output_type": "stream",
     "text": [
      "### with dropout on unbiased\n",
      "125/125 [==============================] - 3s 26ms/step - loss: 0.0113 - accuracy: 0.9980\n",
      "Test Accuracy on unbiased o.o.d. test data: 0.998\n"
     ]
    }
   ],
   "source": [
    "print(\"### with dropout on unbiased\")\n",
    "model_evaluation(X_test = X_unbiased_test, y_test = y_unbiased_test, model = dnn_unbiased_dropout_aug, biased = False)"
   ]
  },
  {
   "cell_type": "markdown",
   "metadata": {},
   "source": [
    "## Build 1 block VGG in tensorflow"
   ]
  },
  {
   "cell_type": "markdown",
   "metadata": {},
   "source": [
    "### Define architectures"
   ]
  },
  {
   "cell_type": "code",
   "execution_count": 17,
   "metadata": {},
   "outputs": [],
   "source": [
    "# class ConvNet(nn.Module):\n",
    "#     def __init__(self):\n",
    "#         super(ConvNet, self).__init__()\n",
    "#         # in_channels, out_channels, kernel_size, stride\n",
    "#         self.c1 = nn.Conv2d(1, 32, 5, 1, padding=2)\n",
    "#         self.c2 = nn.Conv2d(32, 32, 5, 1, padding=2)\n",
    "#         self.c3 = nn.Conv2d(32, 32, 5, 1, padding=2)\n",
    "#         self.pool = nn.AvgPool2d(200)\n",
    "#         self.fc = nn.Linear(32, 2)\n",
    "#     def forward(self, x):\n",
    "#         x = F.relu(self.c1(x))\n",
    "#         x = F.relu(self.c2(x))\n",
    "#         x = F.relu(self.c3(x))\n",
    "#         x = self.pool(x)\n",
    "#         x = x.view(x.size(0), -1)\n",
    "#         x = self.fc(x)\n",
    "#         return x\n",
    "\n",
    "def geirhos_architecture(data = training_biased):\n",
    "    data = data.shuffle(buffer_size=40000).batch(128).prefetch(buffer_size=tf.data.experimental.AUTOTUNE)\n",
    "    geirhos_cnn = Sequential()\n",
    "    geirhos_cnn.add(Conv2D(32, (5, 5), activation='relu', kernel_initializer='he_uniform', padding='same', input_shape=(300, 300, 1)))\n",
    "    geirhos_cnn.add(Conv2D(32, (5, 5), activation='relu', kernel_initializer='he_uniform', padding='same'))\n",
    "    geirhos_cnn.add(Conv2D(32, (5, 5), activation='relu', kernel_initializer='he_uniform', padding='same'))\n",
    "\n",
    "    geirhos_cnn.add(Flatten())\n",
    "    geirhos_cnn.add(AvgPool2D(pool_size=(300,300)))\n",
    "    geirhos_cnn.add(Dense(1, activation='sigmoid'))\n",
    "\n",
    "    # compile model\n",
    "    opt = tf.keras.optimizers.Adam(learning_rate=0.001)\n",
    "    geirhos_cnn.compile(optimizer=opt, loss='binary_crossentropy', metrics=['accuracy'])\n",
    "    geirhos_cnn.fit(data, epochs=5)\n",
    "\n",
    "    return geirhos_cnn\n",
    "    "
   ]
  },
  {
   "cell_type": "code",
   "execution_count": 18,
   "metadata": {},
   "outputs": [
    {
     "name": "stdout",
     "output_type": "stream",
     "text": [
      "Epoch 1/5\n",
      "24/24 [==============================] - 459s 19s/step - loss: 4.3206 - accuracy: 0.5077\n",
      "Epoch 2/5\n",
      "24/24 [==============================] - 458s 19s/step - loss: 4.2726 - accuracy: 0.5086\n",
      "Epoch 3/5\n",
      "24/24 [==============================] - 451s 19s/step - loss: 4.2721 - accuracy: 0.5080\n",
      "Epoch 4/5\n",
      "24/24 [==============================] - 454s 19s/step - loss: 4.2708 - accuracy: 0.5079\n",
      "Epoch 5/5\n",
      "24/24 [==============================] - 463s 19s/step - loss: 4.2699 - accuracy: 0.5077\n"
     ]
    }
   ],
   "source": [
    "geirhos_cnn = geirhos_architecture()"
   ]
  },
  {
   "cell_type": "code",
   "execution_count": 20,
   "metadata": {},
   "outputs": [],
   "source": [
    "def model_evaluation(X_test = X_biased_test, y_test = y_biased_test, biased = True, model = geirhos_cnn):\n",
    "    if biased:\n",
    "        loss, acc = model.evaluate(X_test, y_test)\n",
    "        print('Test Accuracy on biased i.i.d. test data: %.3f' % acc)\n",
    "    else:\n",
    "        loss, acc = model.evaluate(X_unbiased, y)\n",
    "        print('Test Accuracy on unbiased o.o.d. test data: %.3f' % acc)"
   ]
  },
  {
   "cell_type": "code",
   "execution_count": 21,
   "metadata": {},
   "outputs": [
    {
     "name": "stdout",
     "output_type": "stream",
     "text": [
      "### without dropout ###\n",
      "32/32 [==============================] - 34s 1s/step - loss: 4.0109 - accuracy: 0.4764\n",
      "Test Accuracy on biased i.i.d. test data: 0.476\n",
      "125/125 [==============================] - 152s 1s/step - loss: 4.1583 - accuracy: 0.5000\n",
      "Test Accuracy on unbiased o.o.d. test data: 0.500\n"
     ]
    }
   ],
   "source": [
    "print(\"### Geirhos CNN evaluation ###\")\n",
    "model_evaluation(model = geirhos_cnn)\n",
    "model_evaluation(model = geirhos_cnn, biased = False)"
   ]
  },
  {
   "cell_type": "code",
   "execution_count": 36,
   "metadata": {},
   "outputs": [],
   "source": [
    "def vgg_x(data = training_biased, \n",
    "\t\tblocks = 1, fit = False, load = True,\n",
    "\t\tepochs = 5, regularization = False, \n",
    "\t\taugmentation = False, save = True):\n",
    "\t\n",
    "\tdata = data.shuffle(buffer_size=40000).batch(128).prefetch(buffer_size=tf.data.experimental.AUTOTUNE)\n",
    "\t# Create a callback that saves the model's weights\n",
    "\tvggx_checkpoint_path = \"dnn_checkpoints/dnn\"\n",
    "\tif regularization:\n",
    "\t\tvggx_checkpoint_path = vggx_checkpoint_path + \"_reg\"\n",
    "\tif augmentation:\n",
    "\t\tvggx_checkpoint_path = vggx_checkpoint_path + \"_aug\"\n",
    "\tvggx_checkpoint_path = vggx_checkpoint_path + \".ckpt\"\n",
    "\t\n",
    "\tcp_callback = tf.keras.callbacks.ModelCheckpoint(filepath=vggx_checkpoint_path,\n",
    "\t\t\t\t\t\t\t\t\t\t\t\t\tsave_weights_only=True,\n",
    "\t\t\t\t\t\t\t\t\t\t\t\t\tverbose=1)\n",
    "\n",
    "\tif augmentation:\n",
    "\t\tvgg = Sequential([data_augmentation])\n",
    "\telse:\n",
    "\t\tvgg = Sequential()\n",
    "\t\n",
    "\tvgg.add(Conv2D(32, (3, 3), activation='relu', kernel_initializer='he_uniform', padding='same', input_shape=(300, 300, 1)))\n",
    "\tvgg.add(MaxPool2D(pool_size=(2,2), strides=(2,2)))\n",
    "\n",
    "\tif regularization:\n",
    "\t\tprint(\"### Dropout 1 ###\")\n",
    "\t\tvgg.add(Dropout(0.2))\n",
    "\n",
    "\tif blocks > 1:\n",
    "\t\tprint(\"### ConvBlock 2 ###\")\n",
    "\t\tvgg.add(Conv2D(64, (3, 3), activation='relu', kernel_initializer='he_uniform', padding='same'))\n",
    "\t\tvgg.add(MaxPool2D(pool_size=(2,2), strides=(2,2)))\n",
    "\n",
    "\t\tif regularization:\n",
    "\t\t\tprint(\"### Dropout 2 ###\")\n",
    "\t\t\tvgg.add(Dropout(0.2))\n",
    "\t\n",
    "\tif blocks > 2:\n",
    "\t\tprint(\"### ConvBlock 3 ###\")\n",
    "\t\tvgg.add(Conv2D(128, (3, 3), activation='relu', kernel_initializer='he_uniform', padding='same'))\n",
    "\t\tvgg.add(MaxPool2D(pool_size=(2,2), strides=(2,2)))\n",
    "\t\t\n",
    "\t\tif regularization:\n",
    "\t\t\tprint(\"### Dropout 3 ###\")\n",
    "\t\t\tvgg.add(Dropout(0.2))\n",
    "\n",
    "\t########## remains the same for all VGG architectures ##########\n",
    "\tvgg.add(Flatten())\n",
    "\tvgg.add(Dense(128, activation='relu', kernel_initializer='he_uniform'))\n",
    "\n",
    "\tif regularization:\n",
    "\t\tprint(\"### Dropout 4 ###\")\n",
    "\t\tvgg.add(Dropout(0.5))\n",
    "\t\n",
    "\tvgg.add(Dense(1, activation='sigmoid'))\n",
    "\t# compile model\n",
    "\topt = tf.keras.optimizers.Adam(learning_rate=0.001)\n",
    "\tvgg.compile(optimizer=opt, loss='binary_crossentropy', metrics=['accuracy'])\n",
    "\n",
    "\tif fit:\n",
    "\t\tif save:\n",
    "\t\t\tvgg.fit(data, epochs=epochs, callbacks=[cp_callback])\n",
    "\t\telse:\n",
    "\t\t\tvgg.fit(data, epochs=epochs)\n",
    "\telif load:\n",
    "\t\tvgg.load_weights(vggx_checkpoint_path)\n",
    "\n",
    "\treturn vgg"
   ]
  },
  {
   "cell_type": "markdown",
   "metadata": {},
   "source": [
    "### VGG1"
   ]
  },
  {
   "cell_type": "code",
   "execution_count": 37,
   "metadata": {},
   "outputs": [
    {
     "name": "stdout",
     "output_type": "stream",
     "text": [
      "Epoch 1/2\n",
      "24/24 [==============================] - 36s 1s/step - loss: 0.0289 - accuracy: 0.9820\n",
      "Epoch 2/2\n",
      "24/24 [==============================] - 42s 2s/step - loss: 0.0000e+00 - accuracy: 1.0000\n",
      "### Dropout 1 ###\n",
      "### Dropout 4 ###\n",
      "Epoch 1/2\n",
      "24/24 [==============================] - 54s 2s/step - loss: 0.0296 - accuracy: 0.9807\n",
      "Epoch 2/2\n",
      "24/24 [==============================] - 50s 2s/step - loss: 0.0000e+00 - accuracy: 1.0000\n",
      "Model: \"sequential_11\"\n",
      "_________________________________________________________________\n",
      " Layer (type)                Output Shape              Param #   \n",
      "=================================================================\n",
      " conv2d_22 (Conv2D)          (None, 300, 300, 32)      320       \n",
      "                                                                 \n",
      " max_pooling2d_5 (MaxPooling  (None, 150, 150, 32)     0         \n",
      " 2D)                                                             \n",
      "                                                                 \n",
      " flatten_8 (Flatten)         (None, 720000)            0         \n",
      "                                                                 \n",
      " dense_18 (Dense)            (None, 128)               92160128  \n",
      "                                                                 \n",
      " dense_19 (Dense)            (None, 1)                 129       \n",
      "                                                                 \n",
      "=================================================================\n",
      "Total params: 92,160,577\n",
      "Trainable params: 92,160,577\n",
      "Non-trainable params: 0\n",
      "_________________________________________________________________\n",
      "None\n"
     ]
    }
   ],
   "source": [
    "vgg1 = vgg_x(fit = True, save = False, blocks = 1, epochs = 2)\n",
    "vgg1_dropout = vgg_x(fit = True, save = False, blocks = 1, regularization = True, epochs = 2)\n",
    "\n",
    "print(vgg1.summary())"
   ]
  },
  {
   "cell_type": "code",
   "execution_count": 26,
   "metadata": {},
   "outputs": [
    {
     "name": "stdout",
     "output_type": "stream",
     "text": [
      "### without dropout ###\n",
      "32/32 [==============================] - 3s 88ms/step - loss: 0.0000e+00 - accuracy: 1.0000\n",
      "Test Accuracy on biased i.i.d. test data: 1.000\n",
      "125/125 [==============================] - 11s 90ms/step - loss: 64.4110 - accuracy: 0.4863\n",
      "Test Accuracy on unbiased o.o.d. test data: 0.486\n",
      "### with dropout\n",
      "32/32 [==============================] - 3s 89ms/step - loss: 0.0000e+00 - accuracy: 1.0000\n",
      "Test Accuracy on biased i.i.d. test data: 1.000\n",
      "125/125 [==============================] - 11s 90ms/step - loss: 92.6989 - accuracy: 0.4832\n",
      "Test Accuracy on unbiased o.o.d. test data: 0.483\n"
     ]
    }
   ],
   "source": [
    "print(\"### without dropout ###\")\n",
    "model_evaluation(model = vgg1)\n",
    "model_evaluation(model = vgg1, biased = False)\n",
    "print(\"### with dropout\")\n",
    "model_evaluation(model = vgg1_dropout)\n",
    "model_evaluation(model = vgg1_dropout, biased = False)"
   ]
  },
  {
   "cell_type": "code",
   "execution_count": 27,
   "metadata": {},
   "outputs": [
    {
     "name": "stdout",
     "output_type": "stream",
     "text": [
      "Epoch 1/12\n",
      "24/24 [==============================] - 37s 1s/step - loss: 0.7605 - accuracy: 0.7817\n",
      "Epoch 2/12\n",
      "24/24 [==============================] - 35s 1s/step - loss: 0.0430 - accuracy: 0.9907\n",
      "Epoch 3/12\n",
      "24/24 [==============================] - 33s 1s/step - loss: 0.0066 - accuracy: 0.9987\n",
      "Epoch 4/12\n",
      "24/24 [==============================] - 35s 1s/step - loss: 0.0038 - accuracy: 0.9993\n",
      "Epoch 5/12\n",
      "24/24 [==============================] - 35s 1s/step - loss: 0.0015 - accuracy: 1.0000\n",
      "Epoch 6/12\n",
      "24/24 [==============================] - 35s 1s/step - loss: 7.2121e-04 - accuracy: 1.0000\n",
      "Epoch 7/12\n",
      "24/24 [==============================] - 35s 1s/step - loss: 7.1179e-04 - accuracy: 1.0000\n",
      "Epoch 8/12\n",
      "24/24 [==============================] - 35s 1s/step - loss: 3.1311e-04 - accuracy: 1.0000\n",
      "Epoch 9/12\n",
      "24/24 [==============================] - 35s 1s/step - loss: 2.6083e-04 - accuracy: 1.0000\n",
      "Epoch 10/12\n",
      "24/24 [==============================] - 35s 1s/step - loss: 2.3377e-04 - accuracy: 1.0000\n",
      "Epoch 11/12\n",
      "24/24 [==============================] - 35s 1s/step - loss: 2.1028e-04 - accuracy: 1.0000\n",
      "Epoch 12/12\n",
      "24/24 [==============================] - 35s 1s/step - loss: 2.1201e-04 - accuracy: 1.0000\n",
      "### Dropout 1 ###\n",
      "### Dropout 4 ###\n",
      "Epoch 1/12\n",
      "24/24 [==============================] - 46s 2s/step - loss: 1.3830 - accuracy: 0.7087\n",
      "Epoch 2/12\n",
      "24/24 [==============================] - 45s 2s/step - loss: 0.2247 - accuracy: 0.9060\n",
      "Epoch 3/12\n",
      "24/24 [==============================] - 45s 2s/step - loss: 0.0910 - accuracy: 0.9703\n",
      "Epoch 4/12\n",
      "24/24 [==============================] - 45s 2s/step - loss: 0.0606 - accuracy: 0.9790\n",
      "Epoch 5/12\n",
      "24/24 [==============================] - 45s 2s/step - loss: 0.0388 - accuracy: 0.9870\n",
      "Epoch 6/12\n",
      "24/24 [==============================] - 44s 2s/step - loss: 0.0331 - accuracy: 0.9870\n",
      "Epoch 7/12\n",
      "24/24 [==============================] - 44s 2s/step - loss: 0.0232 - accuracy: 0.9920\n",
      "Epoch 8/12\n",
      "24/24 [==============================] - 44s 2s/step - loss: 0.0174 - accuracy: 0.9957\n",
      "Epoch 9/12\n",
      "24/24 [==============================] - 44s 2s/step - loss: 0.0261 - accuracy: 0.9907\n",
      "Epoch 10/12\n",
      "24/24 [==============================] - 46s 2s/step - loss: 0.0165 - accuracy: 0.9950\n",
      "Epoch 11/12\n",
      "24/24 [==============================] - 44s 2s/step - loss: 0.0189 - accuracy: 0.9927\n",
      "Epoch 12/12\n",
      "24/24 [==============================] - 44s 2s/step - loss: 0.0233 - accuracy: 0.9927\n"
     ]
    }
   ],
   "source": [
    "vgg1_aug = vgg_x(fit = True, save = False, blocks = 1, augmentation = True, epochs = 12)\n",
    "vgg1_dropout_aug = vgg_x(fit = True, save = False, blocks = 1, regularization = True, augmentation = True, epochs = 12)"
   ]
  },
  {
   "cell_type": "code",
   "execution_count": 28,
   "metadata": {},
   "outputs": [
    {
     "name": "stdout",
     "output_type": "stream",
     "text": [
      "### without dropout ###\n",
      "32/32 [==============================] - 3s 91ms/step - loss: 1.8551e-04 - accuracy: 1.0000\n",
      "Test Accuracy on biased i.i.d. test data: 1.000\n",
      "125/125 [==============================] - 12s 95ms/step - loss: 2.5628 - accuracy: 0.7715\n",
      "Test Accuracy on unbiased o.o.d. test data: 0.771\n",
      "### with dropout\n",
      "32/32 [==============================] - 3s 97ms/step - loss: 5.6559e-05 - accuracy: 1.0000\n",
      "Test Accuracy on biased i.i.d. test data: 1.000\n",
      "125/125 [==============================] - 12s 97ms/step - loss: 2.1914 - accuracy: 0.7897\n",
      "Test Accuracy on unbiased o.o.d. test data: 0.790\n"
     ]
    }
   ],
   "source": [
    "print(\"### without dropout ###\")\n",
    "model_evaluation(model = vgg1_aug)\n",
    "model_evaluation(model = vgg1_aug, biased = False)\n",
    "print(\"### with dropout\")\n",
    "model_evaluation(model = vgg1_dropout_aug)\n",
    "model_evaluation(model = vgg1_dropout_aug, biased = False)"
   ]
  },
  {
   "cell_type": "markdown",
   "metadata": {},
   "source": [
    "### VGG2"
   ]
  },
  {
   "cell_type": "code",
   "execution_count": 29,
   "metadata": {},
   "outputs": [
    {
     "name": "stdout",
     "output_type": "stream",
     "text": [
      "### ConvBlock 2 ###\n",
      "Epoch 1/2\n",
      "24/24 [==============================] - 71s 3s/step - loss: 0.0316 - accuracy: 0.9687\n",
      "Epoch 2/2\n",
      "24/24 [==============================] - 70s 3s/step - loss: 0.0000e+00 - accuracy: 1.0000\n",
      "### Dropout 1 ###\n",
      "### ConvBlock 2 ###\n",
      "### Dropout 2 ###\n",
      "### Dropout 4 ###\n",
      "Epoch 1/2\n",
      "24/24 [==============================] - 84s 3s/step - loss: 0.0266 - accuracy: 0.9830\n",
      "Epoch 2/2\n",
      "24/24 [==============================] - 83s 3s/step - loss: 0.0000e+00 - accuracy: 1.0000\n",
      "Model: \"sequential_10\"\n",
      "_________________________________________________________________\n",
      " Layer (type)                Output Shape              Param #   \n",
      "=================================================================\n",
      " conv2d_4 (Conv2D)           (None, 300, 300, 32)      320       \n",
      "                                                                 \n",
      " max_pooling2d_4 (MaxPooling  (None, 150, 150, 32)     0         \n",
      " 2D)                                                             \n",
      "                                                                 \n",
      " conv2d_5 (Conv2D)           (None, 150, 150, 64)      18496     \n",
      "                                                                 \n",
      " max_pooling2d_5 (MaxPooling  (None, 75, 75, 64)       0         \n",
      " 2D)                                                             \n",
      "                                                                 \n",
      " flatten_9 (Flatten)         (None, 360000)            0         \n",
      "                                                                 \n",
      " dense_33 (Dense)            (None, 128)               46080128  \n",
      "                                                                 \n",
      " dense_34 (Dense)            (None, 1)                 129       \n",
      "                                                                 \n",
      "=================================================================\n",
      "Total params: 46,099,073\n",
      "Trainable params: 46,099,073\n",
      "Non-trainable params: 0\n",
      "_________________________________________________________________\n",
      "None\n"
     ]
    }
   ],
   "source": [
    "vgg2 = vgg_x(fit = True, save = False, blocks = 2, epochs = 2)\n",
    "vgg2_dropout = vgg_x(fit = True, save = False, blocks = 2, regularization = True, epochs = 2)\n",
    "\n",
    "print(vgg2.summary())"
   ]
  },
  {
   "cell_type": "code",
   "execution_count": 38,
   "metadata": {},
   "outputs": [
    {
     "name": "stdout",
     "output_type": "stream",
     "text": [
      "Model: \"sequential_10\"\n",
      "_________________________________________________________________\n",
      " Layer (type)                Output Shape              Param #   \n",
      "=================================================================\n",
      " conv2d_4 (Conv2D)           (None, 300, 300, 32)      320       \n",
      "                                                                 \n",
      " max_pooling2d_4 (MaxPooling  (None, 150, 150, 32)     0         \n",
      " 2D)                                                             \n",
      "                                                                 \n",
      " conv2d_5 (Conv2D)           (None, 150, 150, 64)      18496     \n",
      "                                                                 \n",
      " max_pooling2d_5 (MaxPooling  (None, 75, 75, 64)       0         \n",
      " 2D)                                                             \n",
      "                                                                 \n",
      " flatten_9 (Flatten)         (None, 360000)            0         \n",
      "                                                                 \n",
      " dense_33 (Dense)            (None, 128)               46080128  \n",
      "                                                                 \n",
      " dense_34 (Dense)            (None, 1)                 129       \n",
      "                                                                 \n",
      "=================================================================\n",
      "Total params: 46,099,073\n",
      "Trainable params: 46,099,073\n",
      "Non-trainable params: 0\n",
      "_________________________________________________________________\n",
      "None\n"
     ]
    }
   ],
   "source": [
    "print(vgg2.summary())"
   ]
  },
  {
   "cell_type": "code",
   "execution_count": 30,
   "metadata": {},
   "outputs": [
    {
     "name": "stdout",
     "output_type": "stream",
     "text": [
      "### without dropout ###\n",
      "32/32 [==============================] - 5s 150ms/step - loss: 0.0000e+00 - accuracy: 1.0000\n",
      "Test Accuracy on biased i.i.d. test data: 1.000\n",
      "125/125 [==============================] - 20s 159ms/step - loss: 50.2618 - accuracy: 0.4850\n",
      "Test Accuracy on unbiased o.o.d. test data: 0.485\n",
      "### with dropout\n",
      "32/32 [==============================] - 5s 156ms/step - loss: 0.0000e+00 - accuracy: 1.0000\n",
      "Test Accuracy on biased i.i.d. test data: 1.000\n",
      "125/125 [==============================] - 19s 155ms/step - loss: 57.0987 - accuracy: 0.4845\n",
      "Test Accuracy on unbiased o.o.d. test data: 0.484\n"
     ]
    }
   ],
   "source": [
    "print(\"### without dropout ###\")\n",
    "model_evaluation(model = vgg2)\n",
    "model_evaluation(model = vgg2, biased = False)\n",
    "print(\"### with dropout\")\n",
    "model_evaluation(model = vgg2_dropout)\n",
    "model_evaluation(model = vgg2_dropout, biased = False)"
   ]
  },
  {
   "cell_type": "code",
   "execution_count": 31,
   "metadata": {},
   "outputs": [
    {
     "name": "stdout",
     "output_type": "stream",
     "text": [
      "### ConvBlock 2 ###\n",
      "Epoch 1/10\n",
      "24/24 [==============================] - 73s 3s/step - loss: 0.8509 - accuracy: 0.7717\n",
      "Epoch 2/10\n",
      "24/24 [==============================] - 76s 3s/step - loss: 0.0572 - accuracy: 0.9910\n",
      "Epoch 3/10\n",
      "24/24 [==============================] - 72s 3s/step - loss: 0.0050 - accuracy: 0.9993\n",
      "Epoch 4/10\n",
      "24/24 [==============================] - 72s 3s/step - loss: 0.0022 - accuracy: 0.9997\n",
      "Epoch 5/10\n",
      "24/24 [==============================] - 70s 3s/step - loss: 0.0020 - accuracy: 0.9997\n",
      "Epoch 6/10\n",
      "24/24 [==============================] - 69s 3s/step - loss: 0.0035 - accuracy: 0.9993\n",
      "Epoch 7/10\n",
      "24/24 [==============================] - 69s 3s/step - loss: 0.0015 - accuracy: 0.9997\n",
      "Epoch 8/10\n",
      "24/24 [==============================] - 69s 3s/step - loss: 5.3109e-04 - accuracy: 1.0000\n",
      "Epoch 9/10\n",
      "24/24 [==============================] - 69s 3s/step - loss: 5.3407e-04 - accuracy: 1.0000\n",
      "Epoch 10/10\n",
      "24/24 [==============================] - 69s 3s/step - loss: 3.3833e-04 - accuracy: 1.0000\n",
      "### Dropout 1 ###\n",
      "### ConvBlock 2 ###\n",
      "### Dropout 2 ###\n",
      "### Dropout 4 ###\n",
      "Epoch 1/10\n",
      "24/24 [==============================] - 85s 3s/step - loss: 1.2169 - accuracy: 0.6990\n",
      "Epoch 2/10\n",
      "24/24 [==============================] - 84s 3s/step - loss: 0.2442 - accuracy: 0.9333\n",
      "Epoch 3/10\n",
      "24/24 [==============================] - 84s 3s/step - loss: 0.0565 - accuracy: 0.9820\n",
      "Epoch 4/10\n",
      "24/24 [==============================] - 85s 4s/step - loss: 0.0213 - accuracy: 0.9947\n",
      "Epoch 5/10\n",
      "24/24 [==============================] - 84s 3s/step - loss: 0.0124 - accuracy: 0.9967\n",
      "Epoch 6/10\n",
      "24/24 [==============================] - 85s 4s/step - loss: 0.0081 - accuracy: 0.9980\n",
      "Epoch 7/10\n",
      "24/24 [==============================] - 85s 4s/step - loss: 0.0067 - accuracy: 0.9973\n",
      "Epoch 8/10\n",
      "24/24 [==============================] - 90s 4s/step - loss: 0.0040 - accuracy: 0.9993\n",
      "Epoch 9/10\n",
      "24/24 [==============================] - 89s 4s/step - loss: 0.0056 - accuracy: 0.9983\n",
      "Epoch 10/10\n",
      "24/24 [==============================] - 89s 4s/step - loss: 0.0023 - accuracy: 1.0000\n"
     ]
    }
   ],
   "source": [
    "vgg2_aug = vgg_x(fit = True, save = False, blocks = 2, augmentation = True, epochs = 10)\n",
    "vgg2_dropout_aug = vgg_x(fit = True, save = False, blocks = 2, regularization = True, augmentation = True, epochs = 10)"
   ]
  },
  {
   "cell_type": "code",
   "execution_count": 32,
   "metadata": {},
   "outputs": [
    {
     "name": "stdout",
     "output_type": "stream",
     "text": [
      "### without dropout ###\n",
      "32/32 [==============================] - 6s 170ms/step - loss: 6.5998e-04 - accuracy: 1.0000\n",
      "Test Accuracy on biased i.i.d. test data: 1.000\n",
      "125/125 [==============================] - 21s 171ms/step - loss: 2.7267 - accuracy: 0.7067\n",
      "Test Accuracy on unbiased o.o.d. test data: 0.707\n",
      "### with dropout\n",
      "32/32 [==============================] - 6s 177ms/step - loss: 0.0042 - accuracy: 1.0000\n",
      "Test Accuracy on biased i.i.d. test data: 1.000\n",
      "125/125 [==============================] - 22s 175ms/step - loss: 1.7211 - accuracy: 0.7500\n",
      "Test Accuracy on unbiased o.o.d. test data: 0.750\n"
     ]
    }
   ],
   "source": [
    "print(\"### without dropout ###\")\n",
    "model_evaluation(model = vgg2_aug)\n",
    "model_evaluation(model = vgg2_aug, biased = False)\n",
    "print(\"### with dropout\")\n",
    "model_evaluation(model = vgg2_dropout_aug)\n",
    "model_evaluation(model = vgg2_dropout_aug, biased = False)"
   ]
  },
  {
   "cell_type": "markdown",
   "metadata": {},
   "source": [
    "### VGG3"
   ]
  },
  {
   "cell_type": "code",
   "execution_count": 33,
   "metadata": {},
   "outputs": [
    {
     "name": "stdout",
     "output_type": "stream",
     "text": [
      "### ConvBlock 2 ###\n",
      "### ConvBlock 3 ###\n",
      "Epoch 1/2\n",
      "24/24 [==============================] - 102s 4s/step - loss: 0.0270 - accuracy: 0.9797\n",
      "Epoch 2/2\n",
      "24/24 [==============================] - 99s 4s/step - loss: 0.0000e+00 - accuracy: 1.0000\n",
      "### Dropout 1 ###\n",
      "### ConvBlock 2 ###\n",
      "### Dropout 2 ###\n",
      "### ConvBlock 3 ###\n",
      "### Dropout 3 ###\n",
      "### Dropout 4 ###\n",
      "Epoch 1/2\n",
      "24/24 [==============================] - 115s 5s/step - loss: 0.0375 - accuracy: 0.9777\n",
      "Epoch 2/2\n",
      "24/24 [==============================] - 113s 5s/step - loss: 0.0000e+00 - accuracy: 1.0000\n",
      "Model: \"sequential_14\"\n",
      "_________________________________________________________________\n",
      " Layer (type)                Output Shape              Param #   \n",
      "=================================================================\n",
      " conv2d_12 (Conv2D)          (None, 300, 300, 32)      320       \n",
      "                                                                 \n",
      " max_pooling2d_12 (MaxPoolin  (None, 150, 150, 32)     0         \n",
      " g2D)                                                            \n",
      "                                                                 \n",
      " conv2d_13 (Conv2D)          (None, 150, 150, 64)      18496     \n",
      "                                                                 \n",
      " max_pooling2d_13 (MaxPoolin  (None, 75, 75, 64)       0         \n",
      " g2D)                                                            \n",
      "                                                                 \n",
      " conv2d_14 (Conv2D)          (None, 75, 75, 128)       73856     \n",
      "                                                                 \n",
      " max_pooling2d_14 (MaxPoolin  (None, 37, 37, 128)      0         \n",
      " g2D)                                                            \n",
      "                                                                 \n",
      " flatten_13 (Flatten)        (None, 175232)            0         \n",
      "                                                                 \n",
      " dense_41 (Dense)            (None, 128)               22429824  \n",
      "                                                                 \n",
      " dense_42 (Dense)            (None, 1)                 129       \n",
      "                                                                 \n",
      "=================================================================\n",
      "Total params: 22,522,625\n",
      "Trainable params: 22,522,625\n",
      "Non-trainable params: 0\n",
      "_________________________________________________________________\n",
      "None\n"
     ]
    }
   ],
   "source": [
    "vgg3 = vgg_x(fit = True, save = False, blocks = 3, epochs = 2)\n",
    "vgg3_dropout = vgg_x(fit = True, save = False, blocks = 3, regularization = True, epochs = 2)\n",
    "\n",
    "print(vgg3.summary())"
   ]
  },
  {
   "cell_type": "code",
   "execution_count": 39,
   "metadata": {},
   "outputs": [
    {
     "name": "stdout",
     "output_type": "stream",
     "text": [
      "Model: \"sequential_14\"\n",
      "_________________________________________________________________\n",
      " Layer (type)                Output Shape              Param #   \n",
      "=================================================================\n",
      " conv2d_12 (Conv2D)          (None, 300, 300, 32)      320       \n",
      "                                                                 \n",
      " max_pooling2d_12 (MaxPoolin  (None, 150, 150, 32)     0         \n",
      " g2D)                                                            \n",
      "                                                                 \n",
      " conv2d_13 (Conv2D)          (None, 150, 150, 64)      18496     \n",
      "                                                                 \n",
      " max_pooling2d_13 (MaxPoolin  (None, 75, 75, 64)       0         \n",
      " g2D)                                                            \n",
      "                                                                 \n",
      " conv2d_14 (Conv2D)          (None, 75, 75, 128)       73856     \n",
      "                                                                 \n",
      " max_pooling2d_14 (MaxPoolin  (None, 37, 37, 128)      0         \n",
      " g2D)                                                            \n",
      "                                                                 \n",
      " flatten_13 (Flatten)        (None, 175232)            0         \n",
      "                                                                 \n",
      " dense_41 (Dense)            (None, 128)               22429824  \n",
      "                                                                 \n",
      " dense_42 (Dense)            (None, 1)                 129       \n",
      "                                                                 \n",
      "=================================================================\n",
      "Total params: 22,522,625\n",
      "Trainable params: 22,522,625\n",
      "Non-trainable params: 0\n",
      "_________________________________________________________________\n",
      "None\n"
     ]
    }
   ],
   "source": [
    "print(vgg3.summary())"
   ]
  },
  {
   "cell_type": "code",
   "execution_count": 34,
   "metadata": {},
   "outputs": [
    {
     "name": "stdout",
     "output_type": "stream",
     "text": [
      "### without dropout ###\n",
      "32/32 [==============================] - 6s 198ms/step - loss: 0.0000e+00 - accuracy: 1.0000\n",
      "Test Accuracy on biased i.i.d. test data: 1.000\n",
      "125/125 [==============================] - 26s 205ms/step - loss: 84.7500 - accuracy: 0.4827\n",
      "Test Accuracy on unbiased o.o.d. test data: 0.483\n",
      "### with dropout\n",
      "32/32 [==============================] - 7s 209ms/step - loss: 0.0000e+00 - accuracy: 1.0000\n",
      "Test Accuracy on biased i.i.d. test data: 1.000\n",
      "125/125 [==============================] - 26s 207ms/step - loss: 51.2252 - accuracy: 0.4825\n",
      "Test Accuracy on unbiased o.o.d. test data: 0.482\n"
     ]
    }
   ],
   "source": [
    "print(\"### without dropout ###\")\n",
    "model_evaluation(model = vgg3)\n",
    "model_evaluation(model = vgg3, biased = False)\n",
    "print(\"### with dropout\")\n",
    "model_evaluation(model = vgg3_dropout)\n",
    "model_evaluation(model = vgg3_dropout, biased = False)"
   ]
  },
  {
   "cell_type": "code",
   "execution_count": 35,
   "metadata": {},
   "outputs": [
    {
     "name": "stdout",
     "output_type": "stream",
     "text": [
      "### ConvBlock 2 ###\n",
      "### ConvBlock 3 ###\n",
      "Epoch 1/10\n",
      "24/24 [==============================] - 100s 4s/step - loss: 0.6315 - accuracy: 0.8163\n",
      "Epoch 2/10\n",
      "24/24 [==============================] - 99s 4s/step - loss: 0.0201 - accuracy: 0.9913\n",
      "Epoch 3/10\n",
      "24/24 [==============================] - 99s 4s/step - loss: 0.0025 - accuracy: 0.9990\n",
      "Epoch 4/10\n",
      "24/24 [==============================] - 99s 4s/step - loss: 0.0012 - accuracy: 0.9997\n",
      "Epoch 5/10\n",
      "24/24 [==============================] - 99s 4s/step - loss: 3.7659e-04 - accuracy: 1.0000\n",
      "Epoch 6/10\n",
      "24/24 [==============================] - 99s 4s/step - loss: 0.0012 - accuracy: 0.9997\n",
      "Epoch 7/10\n",
      "24/24 [==============================] - 99s 4s/step - loss: 3.3038e-04 - accuracy: 1.0000\n",
      "Epoch 8/10\n",
      "24/24 [==============================] - 99s 4s/step - loss: 2.3767e-04 - accuracy: 1.0000\n",
      "Epoch 9/10\n",
      "24/24 [==============================] - 99s 4s/step - loss: 7.7948e-05 - accuracy: 1.0000\n",
      "Epoch 10/10\n",
      "24/24 [==============================] - 100s 4s/step - loss: 4.2912e-05 - accuracy: 1.0000\n",
      "### Dropout 1 ###\n",
      "### ConvBlock 2 ###\n",
      "### Dropout 2 ###\n",
      "### ConvBlock 3 ###\n",
      "### Dropout 3 ###\n",
      "### Dropout 4 ###\n",
      "Epoch 1/10\n",
      "24/24 [==============================] - 117s 5s/step - loss: 1.2796 - accuracy: 0.6753\n",
      "Epoch 2/10\n",
      "24/24 [==============================] - 115s 5s/step - loss: 0.2124 - accuracy: 0.9207\n",
      "Epoch 3/10\n",
      "24/24 [==============================] - 116s 5s/step - loss: 0.0343 - accuracy: 0.9890\n",
      "Epoch 4/10\n",
      "24/24 [==============================] - 116s 5s/step - loss: 0.0139 - accuracy: 0.9960\n",
      "Epoch 5/10\n",
      "24/24 [==============================] - 116s 5s/step - loss: 0.0134 - accuracy: 0.9957\n",
      "Epoch 6/10\n",
      "24/24 [==============================] - 118s 5s/step - loss: 0.0121 - accuracy: 0.9967\n",
      "Epoch 7/10\n",
      "24/24 [==============================] - 117s 5s/step - loss: 0.0215 - accuracy: 0.9927\n",
      "Epoch 8/10\n",
      "24/24 [==============================] - 119s 5s/step - loss: 0.0116 - accuracy: 0.9960\n",
      "Epoch 9/10\n",
      "24/24 [==============================] - 117s 5s/step - loss: 0.0155 - accuracy: 0.9950\n",
      "Epoch 10/10\n",
      "24/24 [==============================] - 121s 5s/step - loss: 0.0089 - accuracy: 0.9970\n"
     ]
    }
   ],
   "source": [
    "vgg3_aug = vgg_x(fit = True, save = False, blocks = 3, augmentation = True, epochs = 10)\n",
    "vgg3_dropout_aug = vgg_x(fit = True, save = False, blocks = 3, regularization = True, augmentation = True, epochs = 10)"
   ]
  },
  {
   "cell_type": "code",
   "execution_count": 36,
   "metadata": {},
   "outputs": [
    {
     "name": "stdout",
     "output_type": "stream",
     "text": [
      "### without dropout ###\n",
      "32/32 [==============================] - 7s 224ms/step - loss: 4.3597e-05 - accuracy: 1.0000\n",
      "Test Accuracy on biased i.i.d. test data: 1.000\n",
      "125/125 [==============================] - 27s 220ms/step - loss: 4.5555 - accuracy: 0.6708\n",
      "Test Accuracy on unbiased o.o.d. test data: 0.671\n",
      "### with dropout\n",
      "32/32 [==============================] - 7s 217ms/step - loss: 7.9481e-04 - accuracy: 1.0000\n",
      "Test Accuracy on biased i.i.d. test data: 1.000\n",
      "125/125 [==============================] - 29s 229ms/step - loss: 4.6141 - accuracy: 0.6363\n",
      "Test Accuracy on unbiased o.o.d. test data: 0.636\n"
     ]
    }
   ],
   "source": [
    "print(\"### without dropout ###\")\n",
    "model_evaluation(model = vgg3_aug)\n",
    "model_evaluation(model = vgg3_aug, biased = False)\n",
    "print(\"### with dropout\")\n",
    "model_evaluation(model = vgg3_dropout_aug)\n",
    "model_evaluation(model = vgg3_dropout_aug, biased = False)"
   ]
  }
 ],
 "metadata": {
  "kernelspec": {
   "display_name": "Python 3.9.12 ('kfex')",
   "language": "python",
   "name": "python3"
  },
  "language_info": {
   "codemirror_mode": {
    "name": "ipython",
    "version": 3
   },
   "file_extension": ".py",
   "mimetype": "text/x-python",
   "name": "python",
   "nbconvert_exporter": "python",
   "pygments_lexer": "ipython3",
   "version": "3.9.12"
  },
  "orig_nbformat": 4,
  "vscode": {
   "interpreter": {
    "hash": "f3cc4b2c7ada40643cfe867ce78cce1d91bf22c0f2120e2c390a8bd9913b2fb8"
   }
  }
 },
 "nbformat": 4,
 "nbformat_minor": 2
}

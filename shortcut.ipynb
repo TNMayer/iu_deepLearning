{
 "cells": [
  {
   "cell_type": "code",
   "execution_count": 1,
   "metadata": {},
   "outputs": [],
   "source": [
    "import numpy as np\n",
    "import matplotlib.pyplot as plt\n",
    "import sys\n",
    "import IPython\n",
    "import time\n",
    "import IPython.display as display\n",
    "from PIL import Image\n",
    "import cv2"
   ]
  },
  {
   "cell_type": "markdown",
   "metadata": {},
   "source": [
    "## Data Preparation"
   ]
  },
  {
   "cell_type": "code",
   "execution_count": 2,
   "metadata": {},
   "outputs": [],
   "source": [
    "def imagePreprocess(imgUrl = './images/cow_shape.png', basewidth = 125, basic_image_shape = 300):\n",
    "    out = np.array(Image.open(imgUrl))[:,:,0]\n",
    "    out[out > 200] = 1000\n",
    "    out[out <= 200] = 255\n",
    "    out[out == 1000] = 0\n",
    "    out[out < 255] = 0\n",
    "    \n",
    "    if basewidth >= 100:\n",
    "        wpercent = (out.shape[0]/out.shape[1])\n",
    "        hsize = int((float(basewidth)*float(wpercent)))\n",
    "        out = cv2.resize(out, dsize=(basewidth, hsize))\n",
    "    \n",
    "    basic_image = np.zeros((basic_image_shape, basic_image_shape))\n",
    "    basic_image[int((basic_image_shape/2)-(out.shape[0]/2)):int((basic_image_shape/2)+(out.shape[0]/2)), int((basic_image_shape/2)-(out.shape[1]/2)):int((basic_image_shape/2)+(out.shape[1]/2))] = out\n",
    "    basic_image = basic_image/255\n",
    "    \n",
    "    return basic_image"
   ]
  },
  {
   "cell_type": "code",
   "execution_count": 3,
   "metadata": {},
   "outputs": [],
   "source": [
    "cow = imagePreprocess('./images/cow_shape.png')\n",
    "cat = imagePreprocess('./images/cat_shape.png')"
   ]
  },
  {
   "cell_type": "code",
   "execution_count": 4,
   "metadata": {},
   "outputs": [
    {
     "data": {
      "text/plain": [
       "<matplotlib.image.AxesImage at 0x18a5c0eb100>"
      ]
     },
     "execution_count": 4,
     "metadata": {},
     "output_type": "execute_result"
    },
    {
     "data": {
      "image/png": "[encoded data removed]",
      "text/plain": [
       "<Figure size 432x288 with 1 Axes>"
      ]
     },
     "metadata": {
      "needs_background": "light"
     },
     "output_type": "display_data"
    }
   ],
   "source": [
    "plt.imshow(cow,cmap='gray')"
   ]
  },
  {
   "cell_type": "code",
   "execution_count": 5,
   "metadata": {},
   "outputs": [
    {
     "data": {
      "text/plain": [
       "<matplotlib.image.AxesImage at 0x18a5c192880>"
      ]
     },
     "execution_count": 5,
     "metadata": {},
     "output_type": "execute_result"
    },
    {
     "data": {
      "image/png": "[encoded data removed]",
      "text/plain": [
       "<Figure size 432x288 with 1 Axes>"
      ]
     },
     "metadata": {
      "needs_background": "light"
     },
     "output_type": "display_data"
    }
   ],
   "source": [
    "plt.imshow(cat,cmap='gray')"
   ]
  },
  {
   "cell_type": "code",
   "execution_count": 6,
   "metadata": {},
   "outputs": [],
   "source": [
    "biased_train_cat = []\n",
    "biased_train_cow = []\n",
    "\n",
    "for i in range(1000):\n",
    "  \n",
    "  x_val = np.random.randint(46,60)\n",
    "  y_val = np.random.randint(39,70)\n",
    "  translation_matrix = np.float32([ [1,0,x_val], [0,1,y_val] ])\n",
    "  im = cv2.warpAffine(cat, translation_matrix, (cat.shape[0], cat.shape[0]))\n",
    "  biased_train_cat.append(im)\n",
    "  x_val = np.random.randint(-53,-39)\n",
    "  y_val = np.random.randint(-65,-34)\n",
    "  translation_matrix = np.float32([ [1,0,x_val], [0,1,y_val] ])\n",
    "  im = cv2.warpAffine(cat, translation_matrix, (cat.shape[0], cat.shape[0]))\n",
    "  biased_train_cat.append(im)\n",
    "\n",
    "  y_val = np.random.randint(44,64)\n",
    "  x_val = np.random.randint(-46,-22)\n",
    "  translation_matrix = np.float32([ [1,0,x_val], [0,1,y_val] ])\n",
    "  im = cv2.warpAffine(cow, translation_matrix, (cat.shape[0], cat.shape[0]))\n",
    "  biased_train_cow.append(im)\n",
    "  y_val = np.random.randint(-56,-33)\n",
    "  x_val = np.random.randint(55,78)\n",
    "  translation_matrix = np.float32([ [1,0,x_val], [0,1,y_val] ])\n",
    "  im = cv2.warpAffine(cow, translation_matrix, (cat.shape[0], cat.shape[0]))\n",
    "  biased_train_cow.append(im)\n",
    "\n",
    "unbiased_train_cat = []\n",
    "unbiased_train_cow = []\n",
    "\n",
    "for i in range(2000):\n",
    "  \n",
    "  x_val = np.random.randint(-53,60)\n",
    "  y_val = np.random.randint(-65,70)\n",
    "  translation_matrix = np.float32([ [1,0,x_val], [0,1,y_val] ])\n",
    "  im = cv2.warpAffine(cat, translation_matrix, (cat.shape[0], cat.shape[0]))\n",
    "  unbiased_train_cat.append(im)\n",
    "  \n",
    "  y_val = np.random.randint(-56,64)\n",
    "  x_val = np.random.randint(-46,78)\n",
    "  translation_matrix = np.float32([ [1,0,x_val], [0,1,y_val] ])\n",
    "  im = cv2.warpAffine(cow, translation_matrix, (cat.shape[0], cat.shape[0]))\n",
    "  unbiased_train_cow.append(im)\n",
    "  \n",
    "biased_train_cow = np.array(biased_train_cow)\n",
    "biased_train_cat = np.array(biased_train_cat)\n",
    "unbiased_train_cow = np.array(unbiased_train_cow)\n",
    "unbiased_train_cat = np.array(unbiased_train_cat)"
   ]
  },
  {
   "cell_type": "markdown",
   "metadata": {},
   "source": [
    "## Bundle train and test data"
   ]
  },
  {
   "cell_type": "code",
   "execution_count": 7,
   "metadata": {},
   "outputs": [],
   "source": [
    "import tensorflow as tf\n",
    "import matplotlib.pyplot as plt\n",
    "from tensorflow.python.framework.ops import EagerTensor\n",
    "from tensorflow.python.ops.resource_variable_ops import ResourceVariable\n",
    "import time\n",
    "from sklearn.model_selection import train_test_split"
   ]
  },
  {
   "cell_type": "code",
   "execution_count": 8,
   "metadata": {},
   "outputs": [],
   "source": [
    "# cats are 0 and cows are 1\n",
    "# generate test data\n",
    "X_unbiased = np.concatenate((unbiased_train_cat, unbiased_train_cow))\n",
    "X_unbiased = X_unbiased.reshape(X_unbiased.shape[0], X_unbiased.shape[1], X_unbiased.shape[2], 1)\n",
    "\n",
    "y = np.concatenate((np.zeros(len(unbiased_train_cat)),np.ones(len(unbiased_train_cow))))\n",
    "y = y.reshape(len(y), 1)\n",
    "\n",
    "# generate train data\n",
    "X_biased = np.concatenate((biased_train_cat,biased_train_cow))\n",
    "X_biased = X_biased.reshape(X_biased.shape[0], X_biased.shape[1], X_biased.shape[2], 1)\n",
    "\n",
    "# split up biased data into train and i.i.d. test data\n",
    "X_biased_train, X_biased_test, y_biased_train, y_biased_test = train_test_split(X_biased, y, test_size=0.25, random_state=1)\n",
    "X_unbiased_train, X_unbiased_test, y_unbiased_train, y_unbiased_test = train_test_split(X_unbiased, y, test_size=0.25, random_state=1)\n",
    "test_unbiased = tf.data.Dataset.from_tensor_slices((X_unbiased, y))\n",
    "training_biased = tf.data.Dataset.from_tensor_slices((X_biased_train, y_biased_train))\n",
    "test_biased = tf.data.Dataset.from_tensor_slices((X_biased_test, y_biased_test))\n",
    "training_unbiased = tf.data.Dataset.from_tensor_slices((X_unbiased_train, y_unbiased_train))"
   ]
  },
  {
   "cell_type": "code",
   "execution_count": 13,
   "metadata": {},
   "outputs": [
    {
     "data": {
      "text/plain": [
       "<matplotlib.image.AxesImage at 0x18f7fe50cd0>"
      ]
     },
     "execution_count": 13,
     "metadata": {},
     "output_type": "execute_result"
    },
    {
     "data": {
      "image/png": "[encoded data removed]",
      "text/plain": [
       "<Figure size 432x288 with 1 Axes>"
      ]
     },
     "metadata": {
      "needs_background": "light"
     },
     "output_type": "display_data"
    }
   ],
   "source": [
    "plt.imshow(X_biased[3001], cmap='gray')"
   ]
  },
  {
   "cell_type": "markdown",
   "metadata": {},
   "source": [
    "### Visualize biased data"
   ]
  },
  {
   "cell_type": "code",
   "execution_count": 16,
   "metadata": {},
   "outputs": [],
   "source": [
    "def visualize_samples(data):\n",
    "  class_types = [\"cat\", \"cow\"]\n",
    "  check_list = list(data.as_numpy_iterator())\n",
    "\n",
    "  fig = plt.figure(figsize=(8,8))\n",
    "  for i in range(25, 50):\n",
    "    plt.subplot(5,5,(i-25)+1)\n",
    "    plt.xticks([])\n",
    "    plt.yticks([])\n",
    "    plt.grid(False)\n",
    "    plt.imshow(check_list[i][0], cmap='gray')\n",
    "    plt.xlabel(class_types [int(check_list[i][1][0])], fontsize=13)\n",
    "  plt.tight_layout()\n",
    "  plt.show()"
   ]
  },
  {
   "cell_type": "code",
   "execution_count": 17,
   "metadata": {},
   "outputs": [
    {
     "data": {
      "image/png": "[encoded data removed]",
      "text/plain": [
       "<Figure size 576x576 with 25 Axes>"
      ]
     },
     "metadata": {},
     "output_type": "display_data"
    }
   ],
   "source": [
    "visualize_samples(training_biased)"
   ]
  },
  {
   "cell_type": "markdown",
   "metadata": {},
   "source": [
    "### Visualize unbiased data"
   ]
  },
  {
   "cell_type": "code",
   "execution_count": 11,
   "metadata": {},
   "outputs": [
    {
     "data": {
      "image/png": "[encoded data removed]",
      "text/plain": [
       "<Figure size 576x576 with 25 Axes>"
      ]
     },
     "metadata": {},
     "output_type": "display_data"
    }
   ],
   "source": [
    "visualize_samples(test_unbiased.shuffle(buffer_size=len(y)))"
   ]
  },
  {
   "cell_type": "markdown",
   "metadata": {},
   "source": [
    "### Data Augmentation"
   ]
  },
  {
   "cell_type": "code",
   "execution_count": 12,
   "metadata": {},
   "outputs": [],
   "source": [
    "data_augmentation = tf.keras.Sequential([\n",
    "  tf.keras.layers.RandomFlip(\"horizontal_and_vertical\"),\n",
    "  tf.keras.layers.RandomRotation(0.2),\n",
    "])"
   ]
  },
  {
   "cell_type": "code",
   "execution_count": 13,
   "metadata": {},
   "outputs": [
    {
     "data": {
      "text/plain": [
       "<matplotlib.image.AxesImage at 0x1725c4c8520>"
      ]
     },
     "execution_count": 13,
     "metadata": {},
     "output_type": "execute_result"
    },
    {
     "data": {
      "image/png": "[encoded data removed]",
      "text/plain": [
       "<Figure size 432x288 with 1 Axes>"
      ]
     },
     "metadata": {
      "needs_background": "light"
     },
     "output_type": "display_data"
    }
   ],
   "source": [
    "plt.imshow(X_biased_train[0], cmap=\"gray\")"
   ]
  },
  {
   "cell_type": "code",
   "execution_count": 14,
   "metadata": {},
   "outputs": [
    {
     "data": {
      "image/png": "[encoded data removed]",
      "text/plain": [
       "<Figure size 720x720 with 9 Axes>"
      ]
     },
     "metadata": {
      "needs_background": "light"
     },
     "output_type": "display_data"
    }
   ],
   "source": [
    "for image, _ in training_biased.take(1):\n",
    "    plt.figure(figsize=(10, 10))\n",
    "    first_image = image\n",
    "    for i in range(9):\n",
    "        ax = plt.subplot(3, 3, i + 1)\n",
    "        augmented_image = data_augmentation(tf.expand_dims(first_image, 0))\n",
    "        plt.imshow(augmented_image[0], cmap=\"gray\")\n",
    "        plt.axis('off')"
   ]
  },
  {
   "cell_type": "markdown",
   "metadata": {},
   "source": [
    "## Build an ANN net with tensorflow"
   ]
  },
  {
   "cell_type": "markdown",
   "metadata": {},
   "source": [
    "### Train fully connected ANN with 4 hidden layers and one output layer"
   ]
  },
  {
   "cell_type": "code",
   "execution_count": 15,
   "metadata": {},
   "outputs": [],
   "source": [
    "import keras,os\n",
    "from keras.models import Sequential\n",
    "from keras.layers import Dense, Conv2D, MaxPool2D , Flatten, Dropout"
   ]
  },
  {
   "cell_type": "code",
   "execution_count": 16,
   "metadata": {},
   "outputs": [],
   "source": [
    "def dnn_model(data = training_biased, \n",
    "            fit = False, regularization = False,\n",
    "            load = True, epochs = 5, augmentation = False):\n",
    "    \n",
    "    data = data.shuffle(buffer_size=40000).batch(128).prefetch(buffer_size=tf.data.experimental.AUTOTUNE)\n",
    "    # define callback options\n",
    "    dnn_checkpoint_path = \"dnn_checkpoints/dnn\"\n",
    "    if regularization:\n",
    "        dnn_checkpoint_path = dnn_checkpoint_path + \"_reg\"\n",
    "    if augmentation:\n",
    "        dnn_checkpoint_path = dnn_checkpoint_path + \"_aug\"\n",
    "    dnn_checkpoint_path = dnn_checkpoint_path + \".ckpt\"\n",
    "\n",
    "    # Create a callback that saves the model's weights\n",
    "    cp_callback = tf.keras.callbacks.ModelCheckpoint(filepath=dnn_checkpoint_path,\n",
    "                                                    save_weights_only=True,\n",
    "                                                    verbose=1)\n",
    "\n",
    "    # define model\n",
    "    if augmentation:\n",
    "        dnn = Sequential([data_augmentation])\n",
    "    else:\n",
    "        dnn = Sequential()\n",
    "    dnn.add(Flatten())\n",
    "    dnn.add(Dense(512, activation='relu', kernel_initializer='he_normal'))\n",
    "    if regularization:\n",
    "        dnn.add(Dropout(0.2))\n",
    "    dnn.add(Dense(256, activation='relu', kernel_initializer='he_normal'))\n",
    "    if regularization:\n",
    "        dnn.add(Dropout(0.2))\n",
    "    dnn.add(Dense(128, activation='relu', kernel_initializer='he_normal'))\n",
    "    if regularization:\n",
    "        dnn.add(Dropout(0.2))\n",
    "    dnn.add(Dense(64, activation='relu', kernel_initializer='he_normal'))\n",
    "    if regularization:\n",
    "        dnn.add(Dropout(0.2))\n",
    "    dnn.add(Dense(1, activation='sigmoid'))\n",
    "    # # compile the model\n",
    "    opt = keras.optimizers.Adam(learning_rate=0.001)\n",
    "    dnn.compile(optimizer=opt, loss='binary_crossentropy', metrics=['accuracy'])\n",
    "    # # fit the model\n",
    "    if fit:\n",
    "        dnn.fit(data,\n",
    "            epochs=epochs,\n",
    "            callbacks=[cp_callback])\n",
    "    if load:\n",
    "        dnn.load_weights(dnn_checkpoint_path)\n",
    "    \n",
    "    return dnn"
   ]
  },
  {
   "cell_type": "markdown",
   "metadata": {},
   "source": [
    "#### Not augmented data"
   ]
  },
  {
   "cell_type": "code",
   "execution_count": 37,
   "metadata": {},
   "outputs": [
    {
     "name": "stdout",
     "output_type": "stream",
     "text": [
      "### Training normal DNN ###\n",
      "### Training normal DNN with dropout ###\n"
     ]
    }
   ],
   "source": [
    "print(\"### Training normal DNN ###\")\n",
    "dnn = dnn_model()\n",
    "print(\"### Training normal DNN with dropout ###\")\n",
    "dnn_dropout = dnn_model(regularization=True)"
   ]
  },
  {
   "cell_type": "markdown",
   "metadata": {},
   "source": [
    "#### Augmented Data"
   ]
  },
  {
   "cell_type": "code",
   "execution_count": 28,
   "metadata": {},
   "outputs": [
    {
     "name": "stdout",
     "output_type": "stream",
     "text": [
      "### Training normal DNN with augmentation ###\n",
      "### Training normal DNN with dropout and augmentation ###\n"
     ]
    }
   ],
   "source": [
    "print(\"### Training normal DNN with augmentation ###\")\n",
    "dnn_aug = dnn_model(epochs = 20, augmentation = True)\n",
    "print(\"### Training normal DNN with dropout and augmentation ###\")\n",
    "dnn_dropout_aug = dnn_model(regularization=True, epochs = 20, augmentation = True)"
   ]
  },
  {
   "cell_type": "code",
   "execution_count": 69,
   "metadata": {},
   "outputs": [
    {
     "name": "stdout",
     "output_type": "stream",
     "text": [
      "### Training normal DNN with dropout and augmentation ###\n"
     ]
    }
   ],
   "source": [
    "print(\"### Training normal DNN with dropout and augmentation ###\")\n",
    "dnn_unbiased_dropout_aug = dnn_model(data = training_unbiased, regularization=True, epochs = 50, augmentation = True)"
   ]
  },
  {
   "cell_type": "markdown",
   "metadata": {},
   "source": [
    "### Evaluation"
   ]
  },
  {
   "cell_type": "markdown",
   "metadata": {},
   "source": [
    "#### No Augmentatioin"
   ]
  },
  {
   "cell_type": "code",
   "execution_count": 66,
   "metadata": {},
   "outputs": [],
   "source": [
    "def model_evaluation(X_test = X_biased_test, y_test = y_biased_test, biased = True, model = dnn):\n",
    "    if biased:\n",
    "        loss, acc = model.evaluate(X_test, y_test)\n",
    "        print('Test Accuracy on biased i.i.d. test data: %.3f' % acc)\n",
    "    else:\n",
    "        loss, acc = model.evaluate(X_unbiased, y)\n",
    "        print('Test Accuracy on unbiased o.o.d. test data: %.3f' % acc)\n"
   ]
  },
  {
   "cell_type": "code",
   "execution_count": 39,
   "metadata": {},
   "outputs": [
    {
     "name": "stdout",
     "output_type": "stream",
     "text": [
      "### without dropout ###\n",
      "32/32 [==============================] - 1s 20ms/step - loss: 1.0638e-07 - accuracy: 1.0000\n",
      "Test Accuracy on biased i.i.d. test data: 1.000\n",
      "125/125 [==============================] - 3s 22ms/step - loss: 9.3940 - accuracy: 0.4860\n",
      "Test Accuracy on unbiased o.o.d. test data: 0.486\n",
      "### with dropout\n",
      "32/32 [==============================] - 1s 21ms/step - loss: 6.8388e-38 - accuracy: 1.0000\n",
      "Test Accuracy on biased i.i.d. test data: 1.000\n",
      "125/125 [==============================] - 3s 21ms/step - loss: 26.2542 - accuracy: 0.4782\n",
      "Test Accuracy on unbiased o.o.d. test data: 0.478\n"
     ]
    }
   ],
   "source": [
    "print(\"### without dropout ###\")\n",
    "model_evaluation(model = dnn)\n",
    "model_evaluation(model = dnn, biased = False)\n",
    "print(\"### with dropout\")\n",
    "model_evaluation(model = dnn_dropout)\n",
    "model_evaluation(model = dnn_dropout, biased = False)"
   ]
  },
  {
   "cell_type": "markdown",
   "metadata": {},
   "source": [
    "**Perfect result: Based on a normal train/test split we achieve a perfect accuracy-score** <br/>\n",
    "**Based on o.o.d. test data the model performs similar to random guessing**"
   ]
  },
  {
   "cell_type": "markdown",
   "metadata": {},
   "source": [
    "#### Augmentation"
   ]
  },
  {
   "cell_type": "code",
   "execution_count": 40,
   "metadata": {},
   "outputs": [
    {
     "name": "stdout",
     "output_type": "stream",
     "text": [
      "### without dropout ###\n",
      "32/32 [==============================] - 1s 23ms/step - loss: 1.2314e-04 - accuracy: 1.0000\n",
      "Test Accuracy on biased i.i.d. test data: 1.000\n",
      "125/125 [==============================] - 3s 24ms/step - loss: 3.2457 - accuracy: 0.6355\n",
      "Test Accuracy on unbiased o.o.d. test data: 0.636\n",
      "### with dropout\n",
      "32/32 [==============================] - 1s 25ms/step - loss: 5.3144e-04 - accuracy: 1.0000\n",
      "Test Accuracy on biased i.i.d. test data: 1.000\n",
      "125/125 [==============================] - 3s 25ms/step - loss: 3.8409 - accuracy: 0.6240\n",
      "Test Accuracy on unbiased o.o.d. test data: 0.624\n"
     ]
    }
   ],
   "source": [
    "print(\"### without dropout ###\")\n",
    "model_evaluation(model = dnn_aug)\n",
    "model_evaluation(model = dnn_aug, biased = False)\n",
    "print(\"### with dropout\")\n",
    "model_evaluation(model = dnn_dropout_aug)\n",
    "model_evaluation(model = dnn_dropout_aug, biased = False)"
   ]
  },
  {
   "cell_type": "code",
   "execution_count": 70,
   "metadata": {},
   "outputs": [
    {
     "name": "stdout",
     "output_type": "stream",
     "text": [
      "### with dropout on unbiased\n",
      "125/125 [==============================] - 4s 24ms/step - loss: 0.0134 - accuracy: 0.9958\n",
      "Test Accuracy on unbiased o.o.d. test data: 0.996\n"
     ]
    }
   ],
   "source": [
    "print(\"### with dropout on unbiased\")\n",
    "model_evaluation(X_test = X_unbiased_test, y_test = y_unbiased_test, model = dnn_unbiased_dropout_aug, biased = False)"
   ]
  },
  {
   "cell_type": "markdown",
   "metadata": {},
   "source": [
    "## Build 1 block VGG in tensorflow"
   ]
  },
  {
   "cell_type": "markdown",
   "metadata": {},
   "source": [
    "### Define architectures"
   ]
  },
  {
   "cell_type": "code",
   "execution_count": 41,
   "metadata": {},
   "outputs": [],
   "source": [
    "def vgg_x(data = training_biased, \n",
    "\t\tblocks = 1, fit = False, load = True,\n",
    "\t\tepochs = 5, regularization = False, \n",
    "\t\taugmentation = False):\n",
    "\t\n",
    "\tdata = data.shuffle(buffer_size=40000).batch(128).prefetch(buffer_size=tf.data.experimental.AUTOTUNE)\n",
    "\t# Create a callback that saves the model's weights\n",
    "\tvggx_checkpoint_path = \"dnn_checkpoints/dnn\"\n",
    "\tif regularization:\n",
    "\t\tvggx_checkpoint_path = vggx_checkpoint_path + \"_reg\"\n",
    "\tif augmentation:\n",
    "\t\tvggx_checkpoint_path = vggx_checkpoint_path + \"_aug\"\n",
    "\tvggx_checkpoint_path = vggx_checkpoint_path + \".ckpt\"\n",
    "\t\n",
    "\tcp_callback = tf.keras.callbacks.ModelCheckpoint(filepath=vggx_checkpoint_path,\n",
    "\t\t\t\t\t\t\t\t\t\t\t\t\tsave_weights_only=True,\n",
    "\t\t\t\t\t\t\t\t\t\t\t\t\tverbose=1)\n",
    "\n",
    "\tif augmentation:\n",
    "\t\tvgg = Sequential([data_augmentation])\n",
    "\telse:\n",
    "\t\tvgg = Sequential()\n",
    "\t\n",
    "\tvgg.add(Conv2D(32, (3, 3), activation='relu', kernel_initializer='he_uniform', padding='same', input_shape=(300, 300, 1)))\n",
    "\tvgg.add(MaxPool2D(pool_size=(2,2), strides=(2,2)))\n",
    "\n",
    "\tif regularization:\n",
    "\t\tprint(\"### Dropout 1 ###\")\n",
    "\t\tvgg.add(Dropout(0.2))\n",
    "\n",
    "\tif blocks > 1:\n",
    "\t\tprint(\"### ConvBlock 2 ###\")\n",
    "\t\tvgg.add(Conv2D(64, (3, 3), activation='relu', kernel_initializer='he_uniform', padding='same'))\n",
    "\t\tvgg.add(MaxPool2D(pool_size=(2,2), strides=(2,2)))\n",
    "\n",
    "\t\tif regularization:\n",
    "\t\t\tprint(\"### Dropout 2 ###\")\n",
    "\t\t\tvgg.add(Dropout(0.2))\n",
    "\t\n",
    "\tif blocks > 2:\n",
    "\t\tprint(\"### ConvBlock 3 ###\")\n",
    "\t\tvgg.add(Conv2D(128, (3, 3), activation='relu', kernel_initializer='he_uniform', padding='same'))\n",
    "\t\tvgg.add(MaxPool2D(pool_size=(2,2), strides=(2,2)))\n",
    "\t\t\n",
    "\t\tif regularization:\n",
    "\t\t\tprint(\"### Dropout 3 ###\")\n",
    "\t\t\tvgg.add(Dropout(0.2))\n",
    "\n",
    "\t########## remains the same for all VGG architectures ##########\n",
    "\tvgg.add(Flatten())\n",
    "\tvgg.add(Dense(128, activation='relu', kernel_initializer='he_uniform'))\n",
    "\n",
    "\tif regularization:\n",
    "\t\tprint(\"### Dropout 4 ###\")\n",
    "\t\tvgg.add(Dropout(0.5))\n",
    "\t\n",
    "\tvgg.add(Dense(1, activation='sigmoid'))\n",
    "\t# compile model\n",
    "\topt = tf.keras.optimizers.Adam(learning_rate=0.001)\n",
    "\tvgg.compile(optimizer=opt, loss='binary_crossentropy', metrics=['accuracy'])\n",
    "\n",
    "\tif fit:\n",
    "\t\tvgg.fit(data, epochs=epochs, callbacks=[cp_callback])\n",
    "\tif load:\n",
    "\t\tvgg.load_weights(vggx_checkpoint_path)\n",
    "\n",
    "\treturn vgg"
   ]
  },
  {
   "cell_type": "markdown",
   "metadata": {},
   "source": [
    "### VGG1"
   ]
  },
  {
   "cell_type": "code",
   "execution_count": 26,
   "metadata": {},
   "outputs": [
    {
     "name": "stdout",
     "output_type": "stream",
     "text": [
      "### Dropout 1 ###\n",
      "### Dropout 4 ###\n"
     ]
    }
   ],
   "source": [
    "vgg1 = vgg_x(blocks = 1, epochs = 2)\n",
    "vgg1_dropout = vgg_x(blocks = 1, regularization = True, epochs = 2)"
   ]
  },
  {
   "cell_type": "code",
   "execution_count": 42,
   "metadata": {},
   "outputs": [
    {
     "name": "stdout",
     "output_type": "stream",
     "text": [
      "### without dropout ###\n",
      "32/32 [==============================] - 3s 88ms/step - loss: 0.0000e+00 - accuracy: 1.0000\n",
      "Test Accuracy on biased i.i.d. test data: 1.000\n",
      "125/125 [==============================] - 10s 83ms/step - loss: 91.2808 - accuracy: 0.4835\n",
      "Test Accuracy on unbiased o.o.d. test data: 0.484\n",
      "### with dropout\n",
      "32/32 [==============================] - 3s 85ms/step - loss: 0.0000e+00 - accuracy: 1.0000\n",
      "Test Accuracy on biased i.i.d. test data: 1.000\n",
      "125/125 [==============================] - 11s 86ms/step - loss: 88.1018 - accuracy: 0.4835\n",
      "Test Accuracy on unbiased o.o.d. test data: 0.484\n"
     ]
    }
   ],
   "source": [
    "print(\"### without dropout ###\")\n",
    "model_evaluation(model = vgg1)\n",
    "model_evaluation(model = vgg1, biased = False)\n",
    "print(\"### with dropout\")\n",
    "model_evaluation(model = vgg1_dropout)\n",
    "model_evaluation(model = vgg1_dropout, biased = False)"
   ]
  },
  {
   "cell_type": "code",
   "execution_count": 45,
   "metadata": {},
   "outputs": [
    {
     "name": "stdout",
     "output_type": "stream",
     "text": [
      "### Dropout 1 ###\n",
      "### Dropout 4 ###\n"
     ]
    }
   ],
   "source": [
    "vgg1_aug = vgg_x(blocks = 1, augmentation = True, epochs = 12)\n",
    "vgg1_dropout_aug = vgg_x(blocks = 1, regularization = True, augmentation = True, epochs = 12)"
   ]
  },
  {
   "cell_type": "code",
   "execution_count": 46,
   "metadata": {},
   "outputs": [
    {
     "name": "stdout",
     "output_type": "stream",
     "text": [
      "### without dropout ###\n",
      "32/32 [==============================] - 4s 89ms/step - loss: 1.3033e-04 - accuracy: 1.0000\n",
      "Test Accuracy on biased i.i.d. test data: 1.000\n",
      "125/125 [==============================] - 11s 89ms/step - loss: 5.1681 - accuracy: 0.7460\n",
      "Test Accuracy on unbiased o.o.d. test data: 0.746\n",
      "### with dropout\n",
      "32/32 [==============================] - 4s 90ms/step - loss: 7.8920e-05 - accuracy: 1.0000\n",
      "Test Accuracy on biased i.i.d. test data: 1.000\n",
      "125/125 [==============================] - 11s 90ms/step - loss: 2.8166 - accuracy: 0.7887\n",
      "Test Accuracy on unbiased o.o.d. test data: 0.789\n"
     ]
    }
   ],
   "source": [
    "print(\"### without dropout ###\")\n",
    "model_evaluation(model = vgg1_aug)\n",
    "model_evaluation(model = vgg1_aug, biased = False)\n",
    "print(\"### with dropout\")\n",
    "model_evaluation(model = vgg1_dropout_aug)\n",
    "model_evaluation(model = vgg1_dropout_aug, biased = False)"
   ]
  },
  {
   "cell_type": "markdown",
   "metadata": {},
   "source": [
    "### VGG2"
   ]
  },
  {
   "cell_type": "code",
   "execution_count": 49,
   "metadata": {},
   "outputs": [
    {
     "name": "stdout",
     "output_type": "stream",
     "text": [
      "### ConvBlock 2 ###\n",
      "### Dropout 1 ###\n",
      "### ConvBlock 2 ###\n",
      "### Dropout 2 ###\n",
      "### Dropout 4 ###\n"
     ]
    }
   ],
   "source": [
    "vgg2 = vgg_x(blocks = 2, epochs = 2)\n",
    "vgg2_dropout = vgg_x(blocks = 2, regularization = True, epochs = 2)"
   ]
  },
  {
   "cell_type": "code",
   "execution_count": 50,
   "metadata": {},
   "outputs": [
    {
     "name": "stdout",
     "output_type": "stream",
     "text": [
      "### without dropout ###\n",
      "32/32 [==============================] - 5s 142ms/step - loss: 0.0000e+00 - accuracy: 1.0000\n",
      "Test Accuracy on biased i.i.d. test data: 1.000\n",
      "125/125 [==============================] - 18s 143ms/step - loss: 117.4579 - accuracy: 0.4848\n",
      "Test Accuracy on unbiased o.o.d. test data: 0.485\n",
      "### with dropout\n",
      "32/32 [==============================] - 5s 138ms/step - loss: 0.0000e+00 - accuracy: 1.0000\n",
      "Test Accuracy on biased i.i.d. test data: 1.000\n",
      "125/125 [==============================] - 18s 143ms/step - loss: 56.2255 - accuracy: 0.4835\n",
      "Test Accuracy on unbiased o.o.d. test data: 0.484\n"
     ]
    }
   ],
   "source": [
    "print(\"### without dropout ###\")\n",
    "model_evaluation(model = vgg2)\n",
    "model_evaluation(model = vgg2, biased = False)\n",
    "print(\"### with dropout\")\n",
    "model_evaluation(model = vgg2_dropout)\n",
    "model_evaluation(model = vgg2_dropout, biased = False)"
   ]
  },
  {
   "cell_type": "code",
   "execution_count": 52,
   "metadata": {},
   "outputs": [
    {
     "name": "stdout",
     "output_type": "stream",
     "text": [
      "### ConvBlock 2 ###\n",
      "### Dropout 1 ###\n",
      "### ConvBlock 2 ###\n",
      "### Dropout 2 ###\n",
      "### Dropout 4 ###\n"
     ]
    }
   ],
   "source": [
    "vgg2_aug = vgg_x(blocks = 2, augmentation = True, epochs = 12)\n",
    "vgg2_dropout_aug = vgg_x(blocks = 2, regularization = True, augmentation = True, epochs = 12)"
   ]
  },
  {
   "cell_type": "code",
   "execution_count": 53,
   "metadata": {},
   "outputs": [
    {
     "name": "stdout",
     "output_type": "stream",
     "text": [
      "### without dropout ###\n",
      "32/32 [==============================] - 5s 139ms/step - loss: 2.3021e-05 - accuracy: 1.0000\n",
      "Test Accuracy on biased i.i.d. test data: 1.000\n",
      "125/125 [==============================] - 18s 142ms/step - loss: 3.7441 - accuracy: 0.6960\n",
      "Test Accuracy on unbiased o.o.d. test data: 0.696\n",
      "### with dropout\n",
      "32/32 [==============================] - 5s 138ms/step - loss: 2.7626e-04 - accuracy: 1.0000\n",
      "Test Accuracy on biased i.i.d. test data: 1.000\n",
      "125/125 [==============================] - 18s 143ms/step - loss: 2.9169 - accuracy: 0.7398\n",
      "Test Accuracy on unbiased o.o.d. test data: 0.740\n"
     ]
    }
   ],
   "source": [
    "print(\"### without dropout ###\")\n",
    "model_evaluation(model = vgg2_aug)\n",
    "model_evaluation(model = vgg2_aug, biased = False)\n",
    "print(\"### with dropout\")\n",
    "model_evaluation(model = vgg2_dropout_aug)\n",
    "model_evaluation(model = vgg2_dropout_aug, biased = False)"
   ]
  },
  {
   "cell_type": "markdown",
   "metadata": {},
   "source": [
    "### VGG3"
   ]
  },
  {
   "cell_type": "code",
   "execution_count": 56,
   "metadata": {},
   "outputs": [
    {
     "name": "stdout",
     "output_type": "stream",
     "text": [
      "### ConvBlock 2 ###\n",
      "### ConvBlock 3 ###\n",
      "### Dropout 1 ###\n",
      "### ConvBlock 2 ###\n",
      "### Dropout 2 ###\n",
      "### ConvBlock 3 ###\n",
      "### Dropout 3 ###\n",
      "### Dropout 4 ###\n"
     ]
    }
   ],
   "source": [
    "vgg3 = vgg_x(blocks = 3, epochs = 2)\n",
    "vgg3_dropout = vgg_x(blocks = 3, regularization = True, epochs = 2)"
   ]
  },
  {
   "cell_type": "code",
   "execution_count": 57,
   "metadata": {},
   "outputs": [
    {
     "name": "stdout",
     "output_type": "stream",
     "text": [
      "### without dropout ###\n",
      "32/32 [==============================] - 7s 206ms/step - loss: 0.0000e+00 - accuracy: 1.0000\n",
      "Test Accuracy on biased i.i.d. test data: 1.000\n",
      "125/125 [==============================] - 26s 205ms/step - loss: 133.4791 - accuracy: 0.4863\n",
      "Test Accuracy on unbiased o.o.d. test data: 0.486\n",
      "### with dropout\n",
      "32/32 [==============================] - 7s 204ms/step - loss: 0.0000e+00 - accuracy: 1.0000\n",
      "Test Accuracy on biased i.i.d. test data: 1.000\n",
      "125/125 [==============================] - 26s 206ms/step - loss: 43.5443 - accuracy: 0.4860\n",
      "Test Accuracy on unbiased o.o.d. test data: 0.486\n"
     ]
    }
   ],
   "source": [
    "print(\"### without dropout ###\")\n",
    "model_evaluation(model = vgg3)\n",
    "model_evaluation(model = vgg3, biased = False)\n",
    "print(\"### with dropout\")\n",
    "model_evaluation(model = vgg3_dropout)\n",
    "model_evaluation(model = vgg3_dropout, biased = False)"
   ]
  },
  {
   "cell_type": "code",
   "execution_count": 61,
   "metadata": {},
   "outputs": [
    {
     "name": "stdout",
     "output_type": "stream",
     "text": [
      "### ConvBlock 2 ###\n",
      "### ConvBlock 3 ###\n",
      "### Dropout 1 ###\n",
      "### ConvBlock 2 ###\n",
      "### Dropout 2 ###\n",
      "### ConvBlock 3 ###\n",
      "### Dropout 3 ###\n",
      "### Dropout 4 ###\n"
     ]
    }
   ],
   "source": [
    "vgg3_aug = vgg_x(blocks = 3, augmentation = True, epochs = 20)\n",
    "vgg3_dropout_aug = vgg_x(blocks = 3, regularization = True, augmentation = True, epochs = 20)"
   ]
  },
  {
   "cell_type": "code",
   "execution_count": 62,
   "metadata": {},
   "outputs": [
    {
     "name": "stdout",
     "output_type": "stream",
     "text": [
      "### without dropout ###\n",
      "32/32 [==============================] - 6s 189ms/step - loss: 9.8901e-06 - accuracy: 1.0000\n",
      "Test Accuracy on biased i.i.d. test data: 1.000\n",
      "125/125 [==============================] - 26s 207ms/step - loss: 7.6764 - accuracy: 0.5882\n",
      "Test Accuracy on unbiased o.o.d. test data: 0.588\n",
      "### with dropout\n",
      "32/32 [==============================] - 7s 199ms/step - loss: 1.5830e-05 - accuracy: 1.0000\n",
      "Test Accuracy on biased i.i.d. test data: 1.000\n",
      "125/125 [==============================] - 28s 220ms/step - loss: 5.0460 - accuracy: 0.6363\n",
      "Test Accuracy on unbiased o.o.d. test data: 0.636\n"
     ]
    }
   ],
   "source": [
    "print(\"### without dropout ###\")\n",
    "model_evaluation(model = vgg3_aug)\n",
    "model_evaluation(model = vgg3_aug, biased = False)\n",
    "print(\"### with dropout\")\n",
    "model_evaluation(model = vgg3_dropout_aug)\n",
    "model_evaluation(model = vgg3_dropout_aug, biased = False)"
   ]
  }
 ],
 "metadata": {
  "kernelspec": {
   "display_name": "Python 3.9.12 ('kfex')",
   "language": "python",
   "name": "python3"
  },
  "language_info": {
   "codemirror_mode": {
    "name": "ipython",
    "version": 3
   },
   "file_extension": ".py",
   "mimetype": "text/x-python",
   "name": "python",
   "nbconvert_exporter": "python",
   "pygments_lexer": "ipython3",
   "version": "3.9.12"
  },
  "orig_nbformat": 4,
  "vscode": {
   "interpreter": {
    "hash": "f3cc4b2c7ada40643cfe867ce78cce1d91bf22c0f2120e2c390a8bd9913b2fb8"
   }
  }
 },
 "nbformat": 4,
 "nbformat_minor": 2
}
